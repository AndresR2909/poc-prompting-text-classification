{
 "cells": [
  {
   "cell_type": "code",
   "execution_count": 2,
   "metadata": {},
   "outputs": [
    {
     "name": "stdout",
     "output_type": "stream",
     "text": [
      "Note: you may need to restart the kernel to use updated packages.\n"
     ]
    }
   ],
   "source": [
    "#%pip install -qU langchain-openai"
   ]
  },
  {
   "cell_type": "code",
   "execution_count": 7,
   "metadata": {},
   "outputs": [],
   "source": [
    "import os\n",
    "import pandas as pd\n",
    "import time\n",
    "\n",
    "from langchain_core.prompts import ChatPromptTemplate\n",
    "from src.utils import make_prompt, make_samples_from_df, plot_confusion_matrix\n",
    "from src.service_model import LlmServiceModel"
   ]
  },
  {
   "cell_type": "markdown",
   "metadata": {},
   "source": [
    "## load dataset"
   ]
  },
  {
   "cell_type": "code",
   "execution_count": 8,
   "metadata": {},
   "outputs": [
    {
     "name": "stderr",
     "output_type": "stream",
     "text": [
      "'HTTPSConnectionPool(host='cdn-lfs.huggingface.co', port=443): Read timed out.' thrown while requesting GET https://huggingface.co/datasets/PrevenIA/spanish-suicide-intent/resolve/main/data/train-00000-of-00001-7b34565378f02992.parquet\n",
      "Retrying in 1s [Retry 1/5].\n"
     ]
    }
   ],
   "source": [
    "splits = {'train': 'data/train-00000-of-00001-7b34565378f02992.parquet', 'val': 'data/val-00000-of-00001-d7338c59b5e5031f.parquet', 'test': 'data/test-00000-of-00001-c830a979da438bff.parquet'}\n",
    "df_train = pd.read_parquet(\"hf://datasets/PrevenIA/spanish-suicide-intent/\" + splits[\"train\"])\n",
    "df_val = pd.read_parquet(\"hf://datasets/PrevenIA/spanish-suicide-intent/\" + splits[\"val\"])"
   ]
  },
  {
   "cell_type": "markdown",
   "metadata": {},
   "source": [
    "## sampled data from validation dataset"
   ]
  },
  {
   "cell_type": "code",
   "execution_count": 9,
   "metadata": {},
   "outputs": [
    {
     "data": {
      "text/html": [
       "<div>\n",
       "<style scoped>\n",
       "    .dataframe tbody tr th:only-of-type {\n",
       "        vertical-align: middle;\n",
       "    }\n",
       "\n",
       "    .dataframe tbody tr th {\n",
       "        vertical-align: top;\n",
       "    }\n",
       "\n",
       "    .dataframe thead th {\n",
       "        text-align: right;\n",
       "    }\n",
       "</style>\n",
       "<table border=\"1\" class=\"dataframe\">\n",
       "  <thead>\n",
       "    <tr style=\"text-align: right;\">\n",
       "      <th></th>\n",
       "      <th>Text</th>\n",
       "      <th>Label</th>\n",
       "      <th>dataset</th>\n",
       "      <th>__index_level_0__</th>\n",
       "    </tr>\n",
       "  </thead>\n",
       "  <tbody>\n",
       "    <tr>\n",
       "      <th>1404</th>\n",
       "      <td>La muerte parece amable, la soledad realmente ...</td>\n",
       "      <td>1</td>\n",
       "      <td>SuicideWatch</td>\n",
       "      <td>71947</td>\n",
       "    </tr>\n",
       "    <tr>\n",
       "      <th>10996</th>\n",
       "      <td>te quiero al final de mi vida\\r\\nQuiero ver tu...</td>\n",
       "      <td>1</td>\n",
       "      <td>TwitterSuicidalAnalysis</td>\n",
       "      <td>21733</td>\n",
       "    </tr>\n",
       "    <tr>\n",
       "      <th>10271</th>\n",
       "      <td>mi MC está actualmente encarcelado y en una má...</td>\n",
       "      <td>1</td>\n",
       "      <td>TwitterSuicidalAnalysis</td>\n",
       "      <td>4326</td>\n",
       "    </tr>\n",
       "    <tr>\n",
       "      <th>2490</th>\n",
       "      <td>Tengo 21 años y nunca he tenido una relación a...</td>\n",
       "      <td>1</td>\n",
       "      <td>SuicideWatch</td>\n",
       "      <td>2215</td>\n",
       "    </tr>\n",
       "    <tr>\n",
       "      <th>14492</th>\n",
       "      <td>No tengo hogar, tengo una casa en la que vivo,...</td>\n",
       "      <td>1</td>\n",
       "      <td>Ghosh et al. 2023</td>\n",
       "      <td>1267</td>\n",
       "    </tr>\n",
       "    <tr>\n",
       "      <th>...</th>\n",
       "      <td>...</td>\n",
       "      <td>...</td>\n",
       "      <td>...</td>\n",
       "      <td>...</td>\n",
       "    </tr>\n",
       "    <tr>\n",
       "      <th>6430</th>\n",
       "      <td>Mi GF quiere tener cosas íntimas conmigo la se...</td>\n",
       "      <td>0</td>\n",
       "      <td>SuicideWatch</td>\n",
       "      <td>71613</td>\n",
       "    </tr>\n",
       "    <tr>\n",
       "      <th>14993</th>\n",
       "      <td>Largo. Vivir. Vida</td>\n",
       "      <td>0</td>\n",
       "      <td>Suicidal Tweet Detection Dataset</td>\n",
       "      <td>479</td>\n",
       "    </tr>\n",
       "    <tr>\n",
       "      <th>9879</th>\n",
       "      <td>¿Qué es 2846 x 3856 - (628 x 27) Ganador obtie...</td>\n",
       "      <td>0</td>\n",
       "      <td>SuicideWatch</td>\n",
       "      <td>5734</td>\n",
       "    </tr>\n",
       "    <tr>\n",
       "      <th>5770</th>\n",
       "      <td>Opinión impopular Esta es una opinión popular</td>\n",
       "      <td>0</td>\n",
       "      <td>SuicideWatch</td>\n",
       "      <td>36142</td>\n",
       "    </tr>\n",
       "    <tr>\n",
       "      <th>8988</th>\n",
       "      <td>Ustedes saben por qué Mickey Mouse estaba enoj...</td>\n",
       "      <td>0</td>\n",
       "      <td>SuicideWatch</td>\n",
       "      <td>75706</td>\n",
       "    </tr>\n",
       "  </tbody>\n",
       "</table>\n",
       "<p>400 rows × 4 columns</p>\n",
       "</div>"
      ],
      "text/plain": [
       "                                                    Text  Label  \\\n",
       "1404   La muerte parece amable, la soledad realmente ...      1   \n",
       "10996  te quiero al final de mi vida\\r\\nQuiero ver tu...      1   \n",
       "10271  mi MC está actualmente encarcelado y en una má...      1   \n",
       "2490   Tengo 21 años y nunca he tenido una relación a...      1   \n",
       "14492  No tengo hogar, tengo una casa en la que vivo,...      1   \n",
       "...                                                  ...    ...   \n",
       "6430   Mi GF quiere tener cosas íntimas conmigo la se...      0   \n",
       "14993                                 Largo. Vivir. Vida      0   \n",
       "9879   ¿Qué es 2846 x 3856 - (628 x 27) Ganador obtie...      0   \n",
       "5770       Opinión impopular Esta es una opinión popular      0   \n",
       "8988   Ustedes saben por qué Mickey Mouse estaba enoj...      0   \n",
       "\n",
       "                                dataset  __index_level_0__  \n",
       "1404                       SuicideWatch              71947  \n",
       "10996           TwitterSuicidalAnalysis              21733  \n",
       "10271           TwitterSuicidalAnalysis               4326  \n",
       "2490                       SuicideWatch               2215  \n",
       "14492                 Ghosh et al. 2023               1267  \n",
       "...                                 ...                ...  \n",
       "6430                       SuicideWatch              71613  \n",
       "14993  Suicidal Tweet Detection Dataset                479  \n",
       "9879                       SuicideWatch               5734  \n",
       "5770                       SuicideWatch              36142  \n",
       "8988                       SuicideWatch              75706  \n",
       "\n",
       "[400 rows x 4 columns]"
      ]
     },
     "execution_count": 9,
     "metadata": {},
     "output_type": "execute_result"
    }
   ],
   "source": [
    "n_samples = 200\n",
    "df_label_1 = df_val[df_val[\"Label\"] == 1].sample(n_samples, random_state=42)\n",
    "df_label_0 = df_val[df_val[\"Label\"] == 0].sample(n_samples, random_state=42)\n",
    "\n",
    "df_val_sampled = pd.concat([df_label_1, df_label_0])\n",
    "df_val_sampled"
   ]
  },
  {
   "cell_type": "markdown",
   "metadata": {},
   "source": [
    "## create the samples for few shot prompting"
   ]
  },
  {
   "cell_type": "code",
   "execution_count": 10,
   "metadata": {},
   "outputs": [
    {
     "name": "stdout",
     "output_type": "stream",
     "text": [
      "\"texto: la escuela y el hogar me dan ganas de terminar con mi vida. Soy un autista de alto funcionamiento de 14 años con TDAH severo y ansiedad y trastorno del procesamiento sensorial, y vivo en una ciudad remota, en ninguna parte, con aproximadamente 1000 habitantes, 1 sistema escolar y una madre abusiva que se niega a educarme en casa y trata de cambiar las cosas y dice que soy una persona abusiva, ella me golpea y me llama cosas como pedazo de mierda sin valor, nunca va a llegar a ser nada, basura humana, etc., tanto los maestros como los niños me acosan en la escuela y literalmente, todo el mundo me odia en esa escuela porque todos son primos putos y soy raro. Quiero morir si falto a la escuela. Tengo que preocuparme de que mi mamá regrese a casa y grite, me insulte, beba y me pegue cuando voy a la escuela. No hay paz, tengo que esconderme en mi habitación con un Chromebook de la escuela que desbloqueé, esto es muy agotador físicamente, por favor ayuda, solo quiero morir y ahorcarme, pero a veces me asusto demasiado.\" : \"etiqueta: 1\",\n",
      "\"texto: Las pesadillas de estar en un campamento con mi esposo han comenzado. Sigo llorando en mi escritorio de la nada. Tengo que ser fuerte por él porque él no puede soportarlo, pero creo que ya no puedo. Estoy tan asustada. Los derechos trans son derechos humanos.\" : \"etiqueta: 1\",\n",
      "\"texto: Así que esto sirve para mostrar que el estadounidense promedio que intenta jubilarse morirá hambriento y solo.\" : \"etiqueta: 1\",\n",
      "\"texto: He estado pensando en morir últimamente. No voy a intentarlo. Solo he estado pensando. Se lo conté a uno de mis compañeros de trabajo y se rió de mí. No se lo voy a decir a mi jefe porque aquí todos bromean al respecto, pero soy el único que no cree que esto sea gracioso.\" : \"etiqueta: 1\",\n",
      "\"texto: Quería ser Aquaman pero me estoy ahogando.\" : \"etiqueta: 1\",\n",
      "\"texto: Sólo la fecha se siente apropiada. 11/11/18 Sólo necesito el valor. Suficiente desesperanza para consumirme en sólo hacerlo. No más pensar en ello. Sólo he perdido tanto tiempo ahora, tengo que hacer esto.\" : \"etiqueta: 1\",\n",
      "\"texto: Yo mismo no trabajo en trabajos, siento tu dolor, aunque mis últimos trabajos son geniales, literalmente, al final todo vale la pena, viejo.\" : \"etiqueta: 1\",\n",
      "\"texto: hombre, creo que odio tanto ir a trabajar porque es muy similar a mi vida personal, una montaña absoluta de mierda acumulándose frente a mí sin que nadie crea en mí lo suficiente como para ayudarme a resolverlo y mis intentos de cambiar las cosas o huir. de cosas o\" : \"etiqueta: 1\",\n",
      "\"texto: ¿Alguna vez no has querido ver el último episodio de una serie de televisión porque no quieres que termine?\" : \"etiqueta: 1\",\n",
      "\"texto: Sin embargo, veo la lógica de esto en situaciones normales cuando los gatos tienen un hogar amoroso adecuado pero los dueños anteriores ya no pueden cuidarlos por una razón justificada; probablemente sea confuso para el gato quedarse en la misma área y podría seguir regresando.\" : \"etiqueta: 1\",\n",
      "\"texto: ¿Cómo está tu mañana? El título lo dice todo eso es todo lo que quiero saber\" : \"etiqueta: 0\",\n",
      "\"texto: Melbourne me ha dado una sensación de hundimiento por volver a Hobart a pesar de que me faltan algunas cosas. Realmente me gusta estar aquí.\" : \"etiqueta: 0\",\n",
      "\"texto: Está pasando mis tíos Hay una chica que realmente me ha gustado desde el 5o grado. Estoy en 8o grado ahora y finalmente he acumulado el valor para decirle. Nos reunimos para pasar el rato mañana. Deséame suerte!\" : \"etiqueta: 0\",\n",
      "\"texto: las caras son un concepto tan extraño que realmente no entiendo\" : \"etiqueta: 0\",\n",
      "\"texto: Este subreddit me hace lol triste lokey Este solía ser honestamente un lugar bastante impresionante. La gente, la comunidad Seguro algunos chistes repetitivos... Pero honestamente... Esto es triste ahora lol\" : \"etiqueta: 0\",\n",
      "\"texto: Hace mucho que no te twitteo\" : \"etiqueta: 0\",\n",
      "\"texto: Algún dolor vale la pena vivir, amigo, como alguien que ha estado en tu situación, lo sé.\" : \"etiqueta: 0\",\n",
      "\"texto: No soy transfóbico, pero creo que estoy sufriendo de adicción al teléfono móvil\" : \"etiqueta: 0\",\n",
      "\"texto: Toma caliente: culos no son atractivos Todos ustedes son tontos para creer así. Desacuerdo conmigo es un pecado btw\" : \"etiqueta: 0\",\n",
      "\"texto: ¿Alguien quiere hablar? Quiero hablar, soy una especie de idiota, pero a quién le importa. Mis pasatiempos están viendo anime, haciendo música, escuchando música y leyendo manga. &amp;#x200B; Aunque no soy tan interesante.\" : \"etiqueta: 0\"\n"
     ]
    }
   ],
   "source": [
    "samples = make_samples_from_df(df_train, n_samples = 10)\n",
    "print(samples)"
   ]
  },
  {
   "cell_type": "markdown",
   "metadata": {},
   "source": [
    "## llm model client chatgpt 3.5 turbo"
   ]
  },
  {
   "cell_type": "code",
   "execution_count": 5,
   "metadata": {},
   "outputs": [],
   "source": [
    "model_deployment = \"gpt-35-proyecto1\" #\"gpt-4o\"\n",
    "api_version = \"2023-03-15-preview\" #2023-03-15-preview\n",
    "llm_client = LlmServiceModel(model_deployment, api_version)\n",
    "llm = llm_client.llm"
   ]
  },
  {
   "cell_type": "markdown",
   "metadata": {},
   "source": [
    "## create few shot prompt template "
   ]
  },
  {
   "cell_type": "code",
   "execution_count": 11,
   "metadata": {},
   "outputs": [],
   "source": [
    "system_msg = \"\"\"Basado en los ejemplos: {samples}.\n",
    "                Clasifica el comentario con 1 si hay ideación/comportamiento suicida; 0 en caso que no haya ideación/comportamiento suicida.\n",
    "                Solo responde la etiqueta de la clasificación \"0\" o \"1\", es decir no respondas al comentario.\n",
    "                comentario:\"\"\"\n",
    "few_shot_prompt = ChatPromptTemplate.from_messages([(\"system\", system_msg,),(\"human\", \"{text}\"),])\n",
    "SAMPLES = make_samples_from_df(df_train, n_samples = 10)"
   ]
  },
  {
   "cell_type": "markdown",
   "metadata": {},
   "source": [
    "## apply clasification function to sampled dataset"
   ]
  },
  {
   "cell_type": "code",
   "execution_count": 7,
   "metadata": {},
   "outputs": [],
   "source": [
    "chain = few_shot_prompt | llm\n",
    "def generate_clasification(text):\n",
    "    time.sleep(2) # temporizador para no sobrepasar los tokens por minuto\n",
    "    try:\n",
    "        response = chain.invoke(\n",
    "            {\n",
    "                \"samples\": SAMPLES,\n",
    "                \"text\": text,\n",
    "            }\n",
    "        )\n",
    "        return response.content.split(\"etiqueta: \")[-1]\n",
    "    except Exception as e:\n",
    "        print(e)\n",
    "        return \"-1\"\n"
   ]
  },
  {
   "cell_type": "code",
   "execution_count": 8,
   "metadata": {},
   "outputs": [
    {
     "name": "stdout",
     "output_type": "stream",
     "text": [
      "Error code: 400 - {'error': {'message': \"The response was filtered due to the prompt triggering Azure OpenAI's content management policy. Please modify your prompt and retry. To learn more about our content filtering policies please read our documentation: https://go.microsoft.com/fwlink/?linkid=2198766\", 'type': None, 'param': 'prompt', 'code': 'content_filter', 'status': 400}}\n",
      "Error code: 400 - {'error': {'message': \"The response was filtered due to the prompt triggering Azure OpenAI's content management policy. Please modify your prompt and retry. To learn more about our content filtering policies please read our documentation: https://go.microsoft.com/fwlink/?linkid=2198766\", 'type': None, 'param': 'prompt', 'code': 'content_filter', 'status': 400}}\n",
      "Error code: 400 - {'error': {'message': \"The response was filtered due to the prompt triggering Azure OpenAI's content management policy. Please modify your prompt and retry. To learn more about our content filtering policies please read our documentation: https://go.microsoft.com/fwlink/?linkid=2198766\", 'type': None, 'param': 'prompt', 'code': 'content_filter', 'status': 400}}\n",
      "Error code: 400 - {'error': {'message': \"The response was filtered due to the prompt triggering Azure OpenAI's content management policy. Please modify your prompt and retry. To learn more about our content filtering policies please read our documentation: https://go.microsoft.com/fwlink/?linkid=2198766\", 'type': None, 'param': 'prompt', 'code': 'content_filter', 'status': 400}}\n",
      "Error code: 400 - {'error': {'message': \"The response was filtered due to the prompt triggering Azure OpenAI's content management policy. Please modify your prompt and retry. To learn more about our content filtering policies please read our documentation: https://go.microsoft.com/fwlink/?linkid=2198766\", 'type': None, 'param': 'prompt', 'code': 'content_filter', 'status': 400}}\n",
      "Error code: 400 - {'error': {'message': \"The response was filtered due to the prompt triggering Azure OpenAI's content management policy. Please modify your prompt and retry. To learn more about our content filtering policies please read our documentation: https://go.microsoft.com/fwlink/?linkid=2198766\", 'type': None, 'param': 'prompt', 'code': 'content_filter', 'status': 400}}\n",
      "Error code: 400 - {'error': {'message': \"The response was filtered due to the prompt triggering Azure OpenAI's content management policy. Please modify your prompt and retry. To learn more about our content filtering policies please read our documentation: https://go.microsoft.com/fwlink/?linkid=2198766\", 'type': None, 'param': 'prompt', 'code': 'content_filter', 'status': 400}}\n",
      "Error code: 400 - {'error': {'message': \"The response was filtered due to the prompt triggering Azure OpenAI's content management policy. Please modify your prompt and retry. To learn more about our content filtering policies please read our documentation: https://go.microsoft.com/fwlink/?linkid=2198766\", 'type': None, 'param': 'prompt', 'code': 'content_filter', 'status': 400}}\n",
      "Error code: 400 - {'error': {'message': \"The response was filtered due to the prompt triggering Azure OpenAI's content management policy. Please modify your prompt and retry. To learn more about our content filtering policies please read our documentation: https://go.microsoft.com/fwlink/?linkid=2198766\", 'type': None, 'param': 'prompt', 'code': 'content_filter', 'status': 400}}\n"
     ]
    },
    {
     "data": {
      "text/html": [
       "<div>\n",
       "<style scoped>\n",
       "    .dataframe tbody tr th:only-of-type {\n",
       "        vertical-align: middle;\n",
       "    }\n",
       "\n",
       "    .dataframe tbody tr th {\n",
       "        vertical-align: top;\n",
       "    }\n",
       "\n",
       "    .dataframe thead th {\n",
       "        text-align: right;\n",
       "    }\n",
       "</style>\n",
       "<table border=\"1\" class=\"dataframe\">\n",
       "  <thead>\n",
       "    <tr style=\"text-align: right;\">\n",
       "      <th></th>\n",
       "      <th>Text</th>\n",
       "      <th>Label</th>\n",
       "      <th>dataset</th>\n",
       "      <th>__index_level_0__</th>\n",
       "      <th>llm_label</th>\n",
       "    </tr>\n",
       "  </thead>\n",
       "  <tbody>\n",
       "    <tr>\n",
       "      <th>1404</th>\n",
       "      <td>La muerte parece amable, la soledad realmente ...</td>\n",
       "      <td>1</td>\n",
       "      <td>SuicideWatch</td>\n",
       "      <td>71947</td>\n",
       "      <td>1</td>\n",
       "    </tr>\n",
       "    <tr>\n",
       "      <th>10996</th>\n",
       "      <td>te quiero al final de mi vida\\r\\nQuiero ver tu...</td>\n",
       "      <td>1</td>\n",
       "      <td>TwitterSuicidalAnalysis</td>\n",
       "      <td>21733</td>\n",
       "      <td>Lo siento, pero no puedo proporcionar la respu...</td>\n",
       "    </tr>\n",
       "    <tr>\n",
       "      <th>10271</th>\n",
       "      <td>mi MC está actualmente encarcelado y en una má...</td>\n",
       "      <td>1</td>\n",
       "      <td>TwitterSuicidalAnalysis</td>\n",
       "      <td>4326</td>\n",
       "      <td>0</td>\n",
       "    </tr>\n",
       "    <tr>\n",
       "      <th>2490</th>\n",
       "      <td>Tengo 21 años y nunca he tenido una relación a...</td>\n",
       "      <td>1</td>\n",
       "      <td>SuicideWatch</td>\n",
       "      <td>2215</td>\n",
       "      <td>1</td>\n",
       "    </tr>\n",
       "    <tr>\n",
       "      <th>14492</th>\n",
       "      <td>No tengo hogar, tengo una casa en la que vivo,...</td>\n",
       "      <td>1</td>\n",
       "      <td>Ghosh et al. 2023</td>\n",
       "      <td>1267</td>\n",
       "      <td>1</td>\n",
       "    </tr>\n",
       "    <tr>\n",
       "      <th>...</th>\n",
       "      <td>...</td>\n",
       "      <td>...</td>\n",
       "      <td>...</td>\n",
       "      <td>...</td>\n",
       "      <td>...</td>\n",
       "    </tr>\n",
       "    <tr>\n",
       "      <th>6430</th>\n",
       "      <td>Mi GF quiere tener cosas íntimas conmigo la se...</td>\n",
       "      <td>0</td>\n",
       "      <td>SuicideWatch</td>\n",
       "      <td>71613</td>\n",
       "      <td>0</td>\n",
       "    </tr>\n",
       "    <tr>\n",
       "      <th>14993</th>\n",
       "      <td>Largo. Vivir. Vida</td>\n",
       "      <td>0</td>\n",
       "      <td>Suicidal Tweet Detection Dataset</td>\n",
       "      <td>479</td>\n",
       "      <td>0</td>\n",
       "    </tr>\n",
       "    <tr>\n",
       "      <th>9879</th>\n",
       "      <td>¿Qué es 2846 x 3856 - (628 x 27) Ganador obtie...</td>\n",
       "      <td>0</td>\n",
       "      <td>SuicideWatch</td>\n",
       "      <td>5734</td>\n",
       "      <td>Lo siento, pero no puedo responder a esa pregu...</td>\n",
       "    </tr>\n",
       "    <tr>\n",
       "      <th>5770</th>\n",
       "      <td>Opinión impopular Esta es una opinión popular</td>\n",
       "      <td>0</td>\n",
       "      <td>SuicideWatch</td>\n",
       "      <td>36142</td>\n",
       "      <td>0</td>\n",
       "    </tr>\n",
       "    <tr>\n",
       "      <th>8988</th>\n",
       "      <td>Ustedes saben por qué Mickey Mouse estaba enoj...</td>\n",
       "      <td>0</td>\n",
       "      <td>SuicideWatch</td>\n",
       "      <td>75706</td>\n",
       "      <td>0</td>\n",
       "    </tr>\n",
       "  </tbody>\n",
       "</table>\n",
       "<p>400 rows × 5 columns</p>\n",
       "</div>"
      ],
      "text/plain": [
       "                                                    Text  Label  \\\n",
       "1404   La muerte parece amable, la soledad realmente ...      1   \n",
       "10996  te quiero al final de mi vida\\r\\nQuiero ver tu...      1   \n",
       "10271  mi MC está actualmente encarcelado y en una má...      1   \n",
       "2490   Tengo 21 años y nunca he tenido una relación a...      1   \n",
       "14492  No tengo hogar, tengo una casa en la que vivo,...      1   \n",
       "...                                                  ...    ...   \n",
       "6430   Mi GF quiere tener cosas íntimas conmigo la se...      0   \n",
       "14993                                 Largo. Vivir. Vida      0   \n",
       "9879   ¿Qué es 2846 x 3856 - (628 x 27) Ganador obtie...      0   \n",
       "5770       Opinión impopular Esta es una opinión popular      0   \n",
       "8988   Ustedes saben por qué Mickey Mouse estaba enoj...      0   \n",
       "\n",
       "                                dataset  __index_level_0__  \\\n",
       "1404                       SuicideWatch              71947   \n",
       "10996           TwitterSuicidalAnalysis              21733   \n",
       "10271           TwitterSuicidalAnalysis               4326   \n",
       "2490                       SuicideWatch               2215   \n",
       "14492                 Ghosh et al. 2023               1267   \n",
       "...                                 ...                ...   \n",
       "6430                       SuicideWatch              71613   \n",
       "14993  Suicidal Tweet Detection Dataset                479   \n",
       "9879                       SuicideWatch               5734   \n",
       "5770                       SuicideWatch              36142   \n",
       "8988                       SuicideWatch              75706   \n",
       "\n",
       "                                               llm_label  \n",
       "1404                                                   1  \n",
       "10996  Lo siento, pero no puedo proporcionar la respu...  \n",
       "10271                                                  0  \n",
       "2490                                                   1  \n",
       "14492                                                  1  \n",
       "...                                                  ...  \n",
       "6430                                                   0  \n",
       "14993                                                  0  \n",
       "9879   Lo siento, pero no puedo responder a esa pregu...  \n",
       "5770                                                   0  \n",
       "8988                                                   0  \n",
       "\n",
       "[400 rows x 5 columns]"
      ]
     },
     "execution_count": 8,
     "metadata": {},
     "output_type": "execute_result"
    }
   ],
   "source": [
    "# Aplicar la función a cada registro del DataFrame\n",
    "df_val_sampled['llm_label'] = df_val_sampled['Text'].apply(generate_clasification)\n",
    "df_val_sampled"
   ]
  },
  {
   "cell_type": "code",
   "execution_count": 9,
   "metadata": {},
   "outputs": [],
   "source": [
    "df_val_sampled.to_csv(\"data/ds_poc_gpt3.5.csv\")"
   ]
  },
  {
   "cell_type": "code",
   "execution_count": 10,
   "metadata": {},
   "outputs": [
    {
     "data": {
      "text/plain": [
       "llm_label\n",
       "0                                                                                                                                                                                                                                                                                                                                                                                                                                                                                                                                                                                                                                                                                                                                                                                                                                                                                                                                                                                                                                                                                                                                                                                                                                                                                                                                                                                                                                                                                                                                                                                                                                                                                                                      247\n",
       "1                                                                                                                                                                                                                                                                                                                                                                                                                                                                                                                                                                                                                                                                                                                                                                                                                                                                                                                                                                                                                                                                                                                                                                                                                                                                                                                                                                                                                                                                                                                                                                                                                                                                                                                      106\n",
       "-1                                                                                                                                                                                                                                                                                                                                                                                                                                                                                                                                                                                                                                                                                                                                                                                                                                                                                                                                                                                                                                                                                                                                                                                                                                                                                                                                                                                                                                                                                                                                                                                                                                                                                                                       9\n",
       "Te recomendaría escuchar \"Hurt\" de Johnny Cash. Es una canción muy emotiva que transmite una gran carga emocional.                                                                                                                                                                                                                                                                                                                                                                                                                                                                                                                                                                                                                                                                                                                                                                                                                                                                                                                                                                                                                                                                                                                                                                                                                                                                                                                                                                                                                                                                                                                                                                                                       1\n",
       "Lo siento, pero no puedo cumplir con tu solicitud de contar una historia que sea \"la más jodida\". Mi objetivo es proporcionar información útil y apoyo, y no puedo promover contenido negativo o dañino. Si tienes alguna otra solicitud o pregunta, estaré encantado de ayudarte.                                                                                                                                                                                                                                                                                                                                                                                                                                                                                                                                                                                                                                                                                                                                                                                                                                                                                                                                                                                                                                                                                                                                                                                                                                                                                                                                                                                                                                       1\n",
       "Un ordenador resuelve un crucigrama utilizando algoritmos y técnicas de procesamiento de lenguaje natural. A continuación, se describe un posible enfoque para resolver un crucigrama:\\n\\n1. Obtención de las pistas: El ordenador lee las pistas del crucigrama y las almacena en una estructura de datos adecuada, como una lista o un diccionario.\\n\\n2. Análisis de las pistas: El ordenador analiza cada pista para determinar la longitud de la palabra que se debe encontrar y cualquier pista adicional que pueda ayudar a identificar la respuesta.\\n\\n3. Búsqueda de palabras: El ordenador busca en su base de datos de palabras válidas todas las palabras que cumplan con la longitud y las pistas adicionales proporcionadas. Esto puede implicar la búsqueda en un diccionario o en una base de datos de palabras.\\n\\n4. Evaluación de las palabras encontradas: El ordenador evalúa cada palabra encontrada en función de su ajuste con las pistas adicionales y las palabras ya completadas en el crucigrama. Utiliza técnicas de procesamiento de lenguaje natural para determinar la probabilidad de que una palabra sea la respuesta correcta.\\n\\n5. Rellenar el crucigrama: El ordenador selecciona la palabra que mejor se ajusta a las pistas y la coloca en el crucigrama. Luego, repite el proceso para las siguientes palabras hasta que el crucigrama esté completo.\\n\\nEs importante destacar que la resolución de crucigramas por parte de un ordenador puede variar dependiendo del algoritmo utilizado y de la base de datos de palabras disponibles. Además, la calidad de las respuestas puede depender de la precisión y exhaustividad de la base de datos de palabras utilizada.      1\n",
       "El valor de x en la expresión x + 4 = 10 es 6.                                                                                                                                                                                                                                                                                                                                                                                                                                                                                                                                                                                                                                                                                                                                                                                                                                                                                                                                                                                                                                                                                                                                                                                                                                                                                                                                                                                                                                                                                                                                                                                                                                                                           1\n",
       "Lo siento, pero no puedo ayudarte con esa solicitud.                                                                                                                                                                                                                                                                                                                                                                                                                                                                                                                                                                                                                                                                                                                                                                                                                                                                                                                                                                                                                                                                                                                                                                                                                                                                                                                                                                                                                                                                                                                                                                                                                                                                     1\n",
       "Un blockchain es un registro digital descentralizado y seguro de transacciones que se comparte y verifica en una red de computadoras.                                                                                                                                                                                                                                                                                                                                                                                                                                                                                                                                                                                                                                                                                                                                                                                                                                                                                                                                                                                                                                                                                                                                                                                                                                                                                                                                                                                                                                                                                                                                                                                    1\n",
       "Etiqueta: 0                                                                                                                                                                                                                                                                                                                                                                                                                                                                                                                                                                                                                                                                                                                                                                                                                                                                                                                                                                                                                                                                                                                                                                                                                                                                                                                                                                                                                                                                                                                                                                                                                                                                                                              1\n",
       "confused, bewildered, perplexed                                                                                                                                                                                                                                                                                                                                                                                                                                                                                                                                                                                                                                                                                                                                                                                                                                                                                                                                                                                                                                                                                                                                                                                                                                                                                                                                                                                                                                                                                                                                                                                                                                                                                          1\n",
       "Lo siento mucho que estés pasando por un momento difícil, pero no puedo proporcionar la ayuda que necesitas. Te animo a que busques apoyo de profesionales de la salud mental o llames a una línea de ayuda de emergencia en tu país.                                                                                                                                                                                                                                                                                                                                                                                                                                                                                                                                                                                                                                                                                                                                                                                                                                                                                                                                                                                                                                                                                                                                                                                                                                                                                                                                                                                                                                                                                    1\n",
       "Lo siento, pero no puedo ayudarte con ese problema. Soy un modelo de lenguaje de IA y no tengo la capacidad de solucionar problemas técnicos. Te recomendaría buscar ayuda en un foro o comunidad en línea especializada en bases de datos o consultar con un experto en el tema.                                                                                                                                                                                                                                                                                                                                                                                                                                                                                                                                                                                                                                                                                                                                                                                                                                                                                                                                                                                                                                                                                                                                                                                                                                                                                                                                                                                                                                        1\n",
       "Lo siento, pero no puedo generar preguntas controvertidas. Mi objetivo es proporcionar información útil y apoyo, no generar controversia. Si tienes alguna otra pregunta o inquietud, estaré encantado de ayudarte.                                                                                                                                                                                                                                                                                                                                                                                                                                                                                                                                                                                                                                                                                                                                                                                                                                                                                                                                                                                                                                                                                                                                                                                                                                                                                                                                                                                                                                                                                                      1\n",
       "¡Claro! Aquí tienes un chiste:\\n\\n¿Por qué los pájaros no usan Facebook?\\n\\nPorque ya tienen Twitter. ¡Pío, pío! 😄                                                                                                                                                                                                                                                                                                                                                                                                                                                                                                                                                                                                                                                                                                                                                                                                                                                                                                                                                                                                                                                                                                                                                                                                                                                                                                                                                                                                                                                                                                                                                                                                       1\n",
       "Lo siento mucho que estés pasando por eso. Lidiar con la rabia reprimida y la ira puede ser un desafío, pero hay algunas estrategias que podrían ayudarte:\\n\\n1. Reconoce y acepta tus emociones: Es importante reconocer y aceptar tus sentimientos de rabia y ira. No los reprimas ni los ignores, ya que esto puede llevar a una acumulación de emociones negativas.\\n\\n2. Encuentra formas saludables de expresión: Busca formas saludables de expresar tu rabia y ira, como hablar con alguien de confianza, escribir en un diario, hacer ejercicio o practicar técnicas de relajación como la respiración profunda o la meditación.\\n\\n3. Identifica los desencadenantes: Intenta identificar los desencadenantes de tu rabia y ira. Esto te ayudará a entender mejor por qué te sientes así y te dará la oportunidad de abordar esos desencadenantes de manera más efectiva.\\n\\n4. Busca apoyo: Considera buscar apoyo de un terapeuta o consejero. Ellos pueden ayudarte a explorar tus emociones y brindarte herramientas y estrategias para manejar la rabia y la ira de manera saludable.\\n\\n5. Practica la empatía: Trata de ponerse en el lugar de los demás y ver las situaciones desde su perspectiva. Esto puede ayudarte a desarrollar una mayor comprensión y empatía hacia los demás, lo que a su vez puede ayudarte a manejar mejor tu rabia y ira.\\n\\nRecuerda que lidiar con la rabia y la ira lleva tiempo y esfuerzo. Sé amable contigo mismo y busca ayuda si sientes que no puedes manejarlo solo.                                                                                                                                                                                             1\n",
       "Claro, aquí tienes un código en Python para invertir una cadena:\\n\\n```python\\ncadena = input(\"Ingresa una cadena: \")\\ncadena_invertida = cadena[::-1]\\nprint(\"Cadena invertida:\", cadena_invertida)\\n```\\n\\nEste código solicita al usuario que ingrese una cadena y luego utiliza el slicing con paso -1 (`[::-1]`) para invertir la cadena. Finalmente, imprime la cadena invertida.                                                                                                                                                                                                                                                                                                                                                                                                                                                                                                                                                                                                                                                                                                                                                                                                                                                                                                                                                                                                                                                                                                                                                                                                                                                                                                                                  1\n",
       "Mi función principal es proporcionar información y asistencia, por lo que no tengo preferencias personales ni puedo ver películas. Sin embargo, algunas películas populares de Bollywood que han sido muy apreciadas por el público incluyen \"Dilwale Dulhania Le Jayenge\", \"Kabhi Khushi Kabhie Gham\", \"Kuch Kuch Hota Hai\" y \"3 Idiots\". Estas son solo algunas sugerencias, y hay muchas otras películas maravillosas en la industria de Bollywood.                                                                                                                                                                                                                                                                                                                                                                                                                                                                                                                                                                                                                                                                                                                                                                                                                                                                                                                                                                                                                                                                                                                                                                                                                                                                   1\n",
       "El artículo 'COVID-19 y su impacto en la educación' analiza cómo la pandemia ha afectado al sistema educativo a nivel mundial. Se mencionan los cierres de escuelas y universidades, lo cual ha llevado a la implementación de la educación a distancia y el uso de plataformas en línea. También se aborda el impacto en los estudiantes, como la interrupción del aprendizaje, la falta de acceso a recursos tecnológicos y la brecha educativa. Además, se discuten los desafíos que enfrentan los docentes, como la adaptación a nuevas metodologías y la dificultad para mantener la motivación de los estudiantes. En resumen, el artículo destaca cómo la pandemia ha transformado la educación y plantea la necesidad de buscar soluciones para mitigar sus efectos negativos.                                                                                                                                                                                                                                                                                                                                                                                                                                                                                                                                                                                                                                                                                                                                                                                                                                                                                                                                   1\n",
       "Lo siento, pero no puedo responder a ese comentario.                                                                                                                                                                                                                                                                                                                                                                                                                                                                                                                                                                                                                                                                                                                                                                                                                                                                                                                                                                                                                                                                                                                                                                                                                                                                                                                                                                                                                                                                                                                                                                                                                                                                     1\n",
       "Lo siento mucho que te sientas así. Como modelo de lenguaje de inteligencia artificial, no tengo emociones ni un propósito personal en la vida. Sin embargo, puedo sugerirte que busques actividades o metas que te apasionen y te hagan sentir realizado. Puede ser útil explorar diferentes áreas de interés, establecer metas realistas y buscar apoyo en amigos, familiares o profesionales si es necesario. Recuerda que es normal sentirse perdido en algún momento de la vida, pero siempre hay oportunidades para encontrar un nuevo propósito y sentido en la vida.                                                                                                                                                                                                                                                                                                                                                                                                                                                                                                                                                                                                                                                                                                                                                                                                                                                                                                                                                                                                                                                                                                                                             1\n",
       "Lo siento, pero como modelo de lenguaje de IA, no puedo contar chistes o participar en concursos. Mi función principal es proporcionar información y ayudar con preguntas. ¿Hay algo más en lo que pueda ayudarte?                                                                                                                                                                                                                                                                                                                                                                                                                                                                                                                                                                                                                                                                                                                                                                                                                                                                                                                                                                                                                                                                                                                                                                                                                                                                                                                                                                                                                                                                                                       1\n",
       "No es necesario que vuelvas a comentar. Tu respuesta anterior es suficiente.                                                                                                                                                                                                                                                                                                                                                                                                                                                                                                                                                                                                                                                                                                                                                                                                                                                                                                                                                                                                                                                                                                                                                                                                                                                                                                                                                                                                                                                                                                                                                                                                                                             1\n",
       "Lamento mucho que estés pasando por un momento difícil, pero no puedo proporcionar la ayuda que necesitas. Es importante que busques apoyo de personas de confianza en tu vida, como amigos, familiares o profesionales de la salud mental.                                                                                                                                                                                                                                                                                                                                                                                                                                                                                                                                                                                                                                                                                                                                                                                                                                                                                                                                                                                                                                                                                                                                                                                                                                                                                                                                                                                                                                                                              1\n",
       "Lo siento, pero no puedo proporcionar la respuesta que estás buscando.                                                                                                                                                                                                                                                                                                                                                                                                                                                                                                                                                                                                                                                                                                                                                                                                                                                                                                                                                                                                                                                                                                                                                                                                                                                                                                                                                                                                                                                                                                                                                                                                                                                   1\n",
       "Hola, ¿en qué puedo ayudarte hoy?                                                                                                                                                                                                                                                                                                                                                                                                                                                                                                                                                                                                                                                                                                                                                                                                                                                                                                                                                                                                                                                                                                                                                                                                                                                                                                                                                                                                                                                                                                                                                                                                                                                                                        1\n",
       "Lamento mucho escuchar que tu amigo está pasando por un momento tan difícil. Es importante tomar en serio cualquier amenaza o indicio de suicidio. Aquí hay algunas cosas que puedes hacer:\\n\\n1. Comunícate con alguien cercano a tu amigo: Si conoces a algún familiar o amigo cercano de tu amigo, intenta comunicarte con ellos para informarles sobre la situación y pedir su ayuda.\\n\\n2. Contacta a servicios de emergencia: Si crees que tu amigo está en peligro inmediato, llama a los servicios de emergencia de tu país para que puedan intervenir y brindarle la ayuda necesaria.\\n\\n3. Busca apoyo profesional: Puedes comunicarte con líneas de ayuda o servicios de salud mental en tu país para obtener orientación sobre cómo manejar la situación y obtener ayuda para tu amigo.\\n\\n4. Mantén la comunicación abierta: Sigue intentando comunicarte con tu amigo, incluso si no responde. Déjale mensajes de apoyo y hazle saber que estás ahí para él. Puede ser útil recordarle que no está solo y que hay personas dispuestas a ayudarlo.\\n\\nRecuerda que la situación es seria y es importante buscar ayuda profesional lo antes posible.                                                                                                                                                                                                                                                                                                                                                                                                                                                                                                                                                         1\n",
       "Lo siento mucho que estés pasando por esto, pero no puedo proporcionar la ayuda que necesitas. Es importante que busques apoyo de alguien de confianza en tu vida, como un amigo, familiar o profesional de la salud mental. También puedes comunicarte con una línea de ayuda de emergencia o acudir a la sala de emergencias de un hospital. Recuerda que no estás solo y hay personas dispuestas a ayudarte.                                                                                                                                                                                                                                                                                                                                                                                                                                                                                                                                                                                                                                                                                                                                                                                                                                                                                                                                                                                                                                                                                                                                                                                                                                                                                                          1\n",
       "Lamento mucho escuchar eso, pero no puedo proporcionar la ayuda que necesitas. Es importante que busques apoyo de profesionales de la salud mental o llames a una línea de ayuda de emergencia en tu país. Ellos podrán brindarte el apoyo y la orientación adecuada en esta situación. No estás solo y hay personas dispuestas a ayudarte.                                                                                                                                                                                                                                                                                                                                                                                                                                                                                                                                                                                                                                                                                                                                                                                                                                                                                                                                                                                                                                                                                                                                                                                                                                                                                                                                                                              1\n",
       "No todas las personas suicidas tienen necesariamente depresión. El suicidio puede ser el resultado de una variedad de factores, incluyendo traumas, eventos estresantes, problemas de salud mental, desequilibrios químicos en el cerebro y otros factores sociales y ambientales. Es importante recordar que cada persona es única y puede tener diferentes razones para experimentar ideación suicida. La depresión es una de las condiciones de salud mental más comunes asociadas con el suicidio, pero no es la única. Es fundamental buscar ayuda profesional si alguien está experimentando pensamientos suicidas, independientemente de la causa subyacente.                                                                                                                                                                                                                                                                                                                                                                                                                                                                                                                                                                                                                                                                                                                                                                                                                                                                                                                                                                                                                                                     1\n",
       "Lo siento si malinterpreté tu comentario. Si no tienes ideación suicida, entonces la clasificación sería \"0\". Si necesitas hablar sobre tus sentimientos o buscar apoyo, te recomendaría hablar con un profesional de la salud mental o buscar recursos de ayuda en tu comunidad.                                                                                                                                                                                                                                                                                                                                                                                                                                                                                                                                                                                                                                                                                                                                                                                                                                                                                                                                                                                                                                                                                                                                                                                                                                                                                                                                                                                                                                        1\n",
       "Lo siento, pero no puedo realizar compras ni acceder a enlaces externos. Mi función principal es proporcionar información y ayudar con preguntas. Si tienes alguna otra consulta, estaré encantado de ayudarte.                                                                                                                                                                                                                                                                                                                                                                                                                                                                                                                                                                                                                                                                                                                                                                                                                                                                                                                                                                                                                                                                                                                                                                                                                                                                                                                                                                                                                                                                                                          1\n",
       "Lo siento, pero no puedo proporcionar la respuesta que estás buscando. Si estás experimentando pensamientos suicidas, te insto a que busques ayuda de un profesional de la salud mental o llames a una línea de ayuda de emergencia en tu país.                                                                                                                                                                                                                                                                                                                                                                                                                                                                                                                                                                                                                                                                                                                                                                                                                                                                                                                                                                                                                                                                                                                                                                                                                                                                                                                                                                                                                                                                          1\n",
       "Lamento escuchar que alguien esté pasando por un momento difícil. Sin embargo, como modelo de lenguaje de IA, no puedo proporcionar ayuda directa en situaciones de crisis. Es importante que alentemos a la persona a buscar apoyo profesional y recursos adecuados, como una línea de ayuda de emergencia o un profesional de la salud mental.                                                                                                                                                                                                                                                                                                                                                                                                                                                                                                                                                                                                                                                                                                                                                                                                                                                                                                                                                                                                                                                                                                                                                                                                                                                                                                                                                                         1\n",
       "Lo siento mucho que estés pasando por esto, pero no puedo proporcionar la ayuda que necesitas. Te recomendaría buscar apoyo de un profesional de la salud mental o comunicarte con una línea de ayuda de emergencia en tu país.                                                                                                                                                                                                                                                                                                                                                                                                                                                                                                                                                                                                                                                                                                                                                                                                                                                                                                                                                                                                                                                                                                                                                                                                                                                                                                                                                                                                                                                                                          1\n",
       "Como IA, no puedo experimentar emociones ni tener experiencias personales. Sin embargo, puedo proporcionar información general sobre cómo pueden sentirse la familia y los amigos de las víctimas de suicidio.\\n\\nLa pérdida de un ser querido por suicidio puede ser extremadamente dolorosa y traumática para la familia y los amigos. Pueden experimentar una amplia gama de emociones, como tristeza, culpa, ira, confusión y desesperanza. La pérdida repentina y la naturaleza del suicidio pueden dejar a las personas con sentimientos de shock y trauma duraderos.\\n\\nA lo largo del tiempo, las emociones pueden cambiar y evolucionar. Algunas personas pueden encontrar cierta paz y aceptación con el tiempo, mientras que otras pueden seguir lidiando con el dolor y la tristeza durante muchos años. No hay un camino único para el proceso de duelo y cada persona lo experimenta de manera diferente.\\n\\nEncontrar tranquilidad puede ser un proceso largo y complejo. Algunas personas pueden encontrar consuelo en el apoyo de familiares y amigos, en la terapia o en grupos de apoyo. Otros pueden encontrar significado y propósito en la defensa de la conciencia sobre la salud mental y la prevención del suicidio.\\n\\nEs importante recordar que cada persona y cada situación es única, y el proceso de duelo puede ser diferente para cada individuo. Si tú o alguien que conoces está lidiando con la pérdida de un ser querido por suicidio, es recomendable buscar apoyo profesional y rodearse de personas comprensivas y solidarias.                                                                                                                                                   1\n",
       "Lo siento, pero no puedo enviar mensajes de texto. Soy un modelo de lenguaje de inteligencia artificial y solo puedo responder a preguntas y proporcionar información. ¿Hay algo más en lo que pueda ayudarte?                                                                                                                                                                                                                                                                                                                                                                                                                                                                                                                                                                                                                                                                                                                                                                                                                                                                                                                                                                                                                                                                                                                                                                                                                                                                                                                                                                                                                                                                                                           1\n",
       "Lo siento, pero no puedo proporcionar información sobre cambios en las leyes o políticas relacionadas con la inmigración. Mi función es brindar asistencia en la generación de texto y responder preguntas generales. Te recomendaría consultar fuentes confiables o expertos en el tema para obtener información precisa y actualizada sobre las leyes de inmigración.                                                                                                                                                                                                                                                                                                                                                                                                                                                                                                                                                                                                                                                                                                                                                                                                                                                                                                                                                                                                                                                                                                                                                                                                                                                                                                                                                  1\n",
       "Lo siento, pero no puedo ayudarte con eso.                                                                                                                                                                                                                                                                                                                                                                                                                                                                                                                                                                                                                                                                                                                                                                                                                                                                                                                                                                                                                                                                                                                                                                                                                                                                                                                                                                                                                                                                                                                                                                                                                                                                               1\n",
       "Lo siento, pero como modelo de lenguaje de IA, no tengo conocimiento de las políticas específicas de las plataformas de redes sociales. Te recomendaría consultar las reglas y directrices de la plataforma en la que estás interesado para obtener información precisa sobre las restricciones de publicación de imágenes los fines de semana.                                                                                                                                                                                                                                                                                                                                                                                                                                                                                                                                                                                                                                                                                                                                                                                                                                                                                                                                                                                                                                                                                                                                                                                                                                                                                                                                                                          1\n",
       "Lo siento, pero no puedo responder a esa pregunta. Mi función principal es proporcionar información y asistencia en temas relacionados con la salud mental. Si tienes alguna pregunta o inquietud sobre ese tema, estaré encantado de ayudarte.                                                                                                                                                                                                                                                                                                                                                                                                                                                                                                                                                                                                                                                                                                                                                                                                                                                                                                                                                                                                                                                                                                                                                                                                                                                                                                                                                                                                                                                                          1\n",
       "Name: count, dtype: int64"
      ]
     },
     "execution_count": 10,
     "metadata": {},
     "output_type": "execute_result"
    }
   ],
   "source": [
    "df_val_sampled[\"llm_label\"].value_counts()"
   ]
  },
  {
   "cell_type": "code",
   "execution_count": 11,
   "metadata": {},
   "outputs": [
    {
     "name": "stderr",
     "output_type": "stream",
     "text": [
      "/var/folders/0z/3s22b27525jc3bm0m923h36h3wg489/T/ipykernel_4443/3994791554.py:4: SettingWithCopyWarning: \n",
      "A value is trying to be set on a copy of a slice from a DataFrame.\n",
      "Try using .loc[row_indexer,col_indexer] = value instead\n",
      "\n",
      "See the caveats in the documentation: https://pandas.pydata.org/pandas-docs/stable/user_guide/indexing.html#returning-a-view-versus-a-copy\n",
      "  filtered_df[\"llm_label\"] = filtered_df[\"llm_label\"].astype(int)\n"
     ]
    },
    {
     "data": {
      "image/png": "[encoded data removed]",
      "text/plain": [
       "<Figure size 1000x700 with 2 Axes>"
      ]
     },
     "metadata": {},
     "output_type": "display_data"
    },
    {
     "name": "stdout",
     "output_type": "stream",
     "text": [
      "              precision    recall  f1-score   support\n",
      "\n",
      "           0       0.68      0.96      0.79       174\n",
      "           1       0.93      0.55      0.69       179\n",
      "\n",
      "    accuracy                           0.75       353\n",
      "   macro avg       0.81      0.76      0.74       353\n",
      "weighted avg       0.81      0.75      0.74       353\n",
      "\n"
     ]
    }
   ],
   "source": [
    "# Filtrar las filas donde las predicciones son 0 o 1\n",
    "filtered_df = df_val_sampled[df_val_sampled[\"llm_label\"].isin([\"0\", \"1\"])]\n",
    "\n",
    "filtered_df[\"llm_label\"] = filtered_df[\"llm_label\"].astype(int)\n",
    "\n",
    "plot_confusion_matrix(filtered_df, 'Label', 'llm_label')"
   ]
  },
  {
   "cell_type": "markdown",
   "metadata": {},
   "source": [
    "## llm model client chatgpt 4o-mini"
   ]
  },
  {
   "cell_type": "code",
   "execution_count": 12,
   "metadata": {},
   "outputs": [],
   "source": [
    "model_deployment = \"gpt-4o-mini\"\n",
    "llm_client = LlmServiceModel(model_deployment)\n",
    "llm = llm_client.llm"
   ]
  },
  {
   "cell_type": "markdown",
   "metadata": {},
   "source": [
    "## apply clasification function  to sampled dataset"
   ]
  },
  {
   "cell_type": "code",
   "execution_count": 13,
   "metadata": {},
   "outputs": [],
   "source": [
    "chain = few_shot_prompt | llm\n",
    "\n",
    "def generate_clasification(text):\n",
    "    try: \n",
    "        response = chain.invoke(\n",
    "            {\n",
    "                \"samples\": SAMPLES,\n",
    "                \"text\": text,\n",
    "            }\n",
    "        )\n",
    "        time.sleep(1) # temporizador para no sobrepasar los tokens por minuto\n",
    "        return response.content.split(\"etiqueta: \")[-1]\n",
    "    except Exception as e:\n",
    "        print(e)\n",
    "        time.sleep(60)\n",
    "        return \"-1\""
   ]
  },
  {
   "cell_type": "code",
   "execution_count": 14,
   "metadata": {},
   "outputs": [
    {
     "data": {
      "text/html": [
       "<div>\n",
       "<style scoped>\n",
       "    .dataframe tbody tr th:only-of-type {\n",
       "        vertical-align: middle;\n",
       "    }\n",
       "\n",
       "    .dataframe tbody tr th {\n",
       "        vertical-align: top;\n",
       "    }\n",
       "\n",
       "    .dataframe thead th {\n",
       "        text-align: right;\n",
       "    }\n",
       "</style>\n",
       "<table border=\"1\" class=\"dataframe\">\n",
       "  <thead>\n",
       "    <tr style=\"text-align: right;\">\n",
       "      <th></th>\n",
       "      <th>Text</th>\n",
       "      <th>Label</th>\n",
       "      <th>dataset</th>\n",
       "      <th>__index_level_0__</th>\n",
       "      <th>llm_label</th>\n",
       "    </tr>\n",
       "  </thead>\n",
       "  <tbody>\n",
       "    <tr>\n",
       "      <th>1404</th>\n",
       "      <td>La muerte parece amable, la soledad realmente ...</td>\n",
       "      <td>1</td>\n",
       "      <td>SuicideWatch</td>\n",
       "      <td>71947</td>\n",
       "      <td>1</td>\n",
       "    </tr>\n",
       "    <tr>\n",
       "      <th>10996</th>\n",
       "      <td>te quiero al final de mi vida\\r\\nQuiero ver tu...</td>\n",
       "      <td>1</td>\n",
       "      <td>TwitterSuicidalAnalysis</td>\n",
       "      <td>21733</td>\n",
       "      <td>1</td>\n",
       "    </tr>\n",
       "    <tr>\n",
       "      <th>10271</th>\n",
       "      <td>mi MC está actualmente encarcelado y en una má...</td>\n",
       "      <td>1</td>\n",
       "      <td>TwitterSuicidalAnalysis</td>\n",
       "      <td>4326</td>\n",
       "      <td>0</td>\n",
       "    </tr>\n",
       "    <tr>\n",
       "      <th>2490</th>\n",
       "      <td>Tengo 21 años y nunca he tenido una relación a...</td>\n",
       "      <td>1</td>\n",
       "      <td>SuicideWatch</td>\n",
       "      <td>2215</td>\n",
       "      <td>1</td>\n",
       "    </tr>\n",
       "    <tr>\n",
       "      <th>14492</th>\n",
       "      <td>No tengo hogar, tengo una casa en la que vivo,...</td>\n",
       "      <td>1</td>\n",
       "      <td>Ghosh et al. 2023</td>\n",
       "      <td>1267</td>\n",
       "      <td>1</td>\n",
       "    </tr>\n",
       "    <tr>\n",
       "      <th>...</th>\n",
       "      <td>...</td>\n",
       "      <td>...</td>\n",
       "      <td>...</td>\n",
       "      <td>...</td>\n",
       "      <td>...</td>\n",
       "    </tr>\n",
       "    <tr>\n",
       "      <th>6430</th>\n",
       "      <td>Mi GF quiere tener cosas íntimas conmigo la se...</td>\n",
       "      <td>0</td>\n",
       "      <td>SuicideWatch</td>\n",
       "      <td>71613</td>\n",
       "      <td>0</td>\n",
       "    </tr>\n",
       "    <tr>\n",
       "      <th>14993</th>\n",
       "      <td>Largo. Vivir. Vida</td>\n",
       "      <td>0</td>\n",
       "      <td>Suicidal Tweet Detection Dataset</td>\n",
       "      <td>479</td>\n",
       "      <td>0</td>\n",
       "    </tr>\n",
       "    <tr>\n",
       "      <th>9879</th>\n",
       "      <td>¿Qué es 2846 x 3856 - (628 x 27) Ganador obtie...</td>\n",
       "      <td>0</td>\n",
       "      <td>SuicideWatch</td>\n",
       "      <td>5734</td>\n",
       "      <td>0</td>\n",
       "    </tr>\n",
       "    <tr>\n",
       "      <th>5770</th>\n",
       "      <td>Opinión impopular Esta es una opinión popular</td>\n",
       "      <td>0</td>\n",
       "      <td>SuicideWatch</td>\n",
       "      <td>36142</td>\n",
       "      <td>0</td>\n",
       "    </tr>\n",
       "    <tr>\n",
       "      <th>8988</th>\n",
       "      <td>Ustedes saben por qué Mickey Mouse estaba enoj...</td>\n",
       "      <td>0</td>\n",
       "      <td>SuicideWatch</td>\n",
       "      <td>75706</td>\n",
       "      <td>0</td>\n",
       "    </tr>\n",
       "  </tbody>\n",
       "</table>\n",
       "<p>400 rows × 5 columns</p>\n",
       "</div>"
      ],
      "text/plain": [
       "                                                    Text  Label  \\\n",
       "1404   La muerte parece amable, la soledad realmente ...      1   \n",
       "10996  te quiero al final de mi vida\\r\\nQuiero ver tu...      1   \n",
       "10271  mi MC está actualmente encarcelado y en una má...      1   \n",
       "2490   Tengo 21 años y nunca he tenido una relación a...      1   \n",
       "14492  No tengo hogar, tengo una casa en la que vivo,...      1   \n",
       "...                                                  ...    ...   \n",
       "6430   Mi GF quiere tener cosas íntimas conmigo la se...      0   \n",
       "14993                                 Largo. Vivir. Vida      0   \n",
       "9879   ¿Qué es 2846 x 3856 - (628 x 27) Ganador obtie...      0   \n",
       "5770       Opinión impopular Esta es una opinión popular      0   \n",
       "8988   Ustedes saben por qué Mickey Mouse estaba enoj...      0   \n",
       "\n",
       "                                dataset  __index_level_0__ llm_label  \n",
       "1404                       SuicideWatch              71947         1  \n",
       "10996           TwitterSuicidalAnalysis              21733         1  \n",
       "10271           TwitterSuicidalAnalysis               4326         0  \n",
       "2490                       SuicideWatch               2215         1  \n",
       "14492                 Ghosh et al. 2023               1267         1  \n",
       "...                                 ...                ...       ...  \n",
       "6430                       SuicideWatch              71613         0  \n",
       "14993  Suicidal Tweet Detection Dataset                479         0  \n",
       "9879                       SuicideWatch               5734         0  \n",
       "5770                       SuicideWatch              36142         0  \n",
       "8988                       SuicideWatch              75706         0  \n",
       "\n",
       "[400 rows x 5 columns]"
      ]
     },
     "execution_count": 14,
     "metadata": {},
     "output_type": "execute_result"
    }
   ],
   "source": [
    "# Aplicar la función a cada registro del DataFrame\n",
    "df_val_sampled['llm_label'] = df_val_sampled['Text'].apply(generate_clasification)\n",
    "df_val_sampled"
   ]
  },
  {
   "cell_type": "code",
   "execution_count": 15,
   "metadata": {},
   "outputs": [],
   "source": [
    "df_val_sampled.to_csv(\"data/ds_poc_gpt40mini.csv\")"
   ]
  },
  {
   "cell_type": "code",
   "execution_count": 16,
   "metadata": {},
   "outputs": [
    {
     "data": {
      "text/plain": [
       "llm_label\n",
       "0                                                                                                                       268\n",
       "1                                                                                                                       125\n",
       "Un ordenador resuelve un crucigrama utilizando algoritmos y técnicas de procesamiento de lenguaje natural. Aquí           1\n",
       "Para encontrar el valor de \\( x \\) en la expresión \\( x + 4 = 10                                                          1\n",
       "Para clasificar las características de un producto en principales y secundarias, primero es necesario tener la lista      1\n",
       "Un blockchain es un sistema de registro digital descentralizado y seguro que almacena datos en bloques inter              1\n",
       "1. Confundido\\n2. Desconcertado\\n3. Aturdido                                                                              1\n",
       "Aquí tienes un código en Python para invertir una cadena:\\n\\n```python\\ndef invertir_cadena(cadena                        1\n",
       "El artículo 'COVID-19 y su impacto en la educación' analiza cómo la pandemia ha afectado                                  1\n",
       "Name: count, dtype: int64"
      ]
     },
     "execution_count": 16,
     "metadata": {},
     "output_type": "execute_result"
    }
   ],
   "source": [
    "df_val_sampled[\"llm_label\"].value_counts()"
   ]
  },
  {
   "cell_type": "code",
   "execution_count": 18,
   "metadata": {},
   "outputs": [
    {
     "name": "stderr",
     "output_type": "stream",
     "text": [
      "/var/folders/0z/3s22b27525jc3bm0m923h36h3wg489/T/ipykernel_5821/3994791554.py:4: SettingWithCopyWarning: \n",
      "A value is trying to be set on a copy of a slice from a DataFrame.\n",
      "Try using .loc[row_indexer,col_indexer] = value instead\n",
      "\n",
      "See the caveats in the documentation: https://pandas.pydata.org/pandas-docs/stable/user_guide/indexing.html#returning-a-view-versus-a-copy\n",
      "  filtered_df[\"llm_label\"] = filtered_df[\"llm_label\"].astype(int)\n"
     ]
    },
    {
     "data": {
      "image/png": "[encoded data removed]",
      "text/plain": [
       "<Figure size 1000x700 with 2 Axes>"
      ]
     },
     "metadata": {},
     "output_type": "display_data"
    },
    {
     "name": "stdout",
     "output_type": "stream",
     "text": [
      "              precision    recall  f1-score   support\n",
      "\n",
      "           0       0.69      0.95      0.80       193\n",
      "           1       0.93      0.58      0.71       200\n",
      "\n",
      "    accuracy                           0.76       393\n",
      "   macro avg       0.81      0.77      0.76       393\n",
      "weighted avg       0.81      0.76      0.76       393\n",
      "\n"
     ]
    }
   ],
   "source": [
    "# Filtrar las filas donde las predicciones son 0 o 1\n",
    "filtered_df = df_val_sampled[df_val_sampled[\"llm_label\"].isin([\"0\", \"1\"])]\n",
    "\n",
    "filtered_df[\"llm_label\"] = filtered_df[\"llm_label\"].astype(int)\n",
    "\n",
    "plot_confusion_matrix(filtered_df, 'Label', 'llm_label')"
   ]
  }
 ],
 "metadata": {
  "kernelspec": {
   "display_name": ".venv",
   "language": "python",
   "name": "python3"
  },
  "language_info": {
   "codemirror_mode": {
    "name": "ipython",
    "version": 3
   },
   "file_extension": ".py",
   "mimetype": "text/x-python",
   "name": "python",
   "nbconvert_exporter": "python",
   "pygments_lexer": "ipython3",
   "version": "3.12.4"
  }
 },
 "nbformat": 4,
 "nbformat_minor": 2
}
