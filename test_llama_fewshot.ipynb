{
 "cells": [
  {
   "cell_type": "markdown",
   "metadata": {},
   "source": [
    "# POC llama 3.1 8B"
   ]
  },
  {
   "cell_type": "code",
   "execution_count": 10,
   "metadata": {},
   "outputs": [],
   "source": [
    "#pip install torch transformers python-dotenv accelerate huggingface_hub pandas datasets bitsandbytes peft trl -q"
   ]
  },
  {
   "cell_type": "code",
   "execution_count": 11,
   "metadata": {},
   "outputs": [],
   "source": [
    "#pip install matplotlib seaborn scikit-learn -q"
   ]
  },
  {
   "cell_type": "code",
   "execution_count": 12,
   "metadata": {},
   "outputs": [],
   "source": [
    "import os\n",
    "from dotenv import load_dotenv\n",
    "from huggingface_hub import login\n",
    "import pandas as pd\n",
    "from tqdm.auto import tqdm\n",
    "\n",
    "from src.model import ModelLoader\n",
    "from src.utils import make_prompt, make_samples_from_df, plot_confusion_matrix\n",
    "from src.pipeline import TextGenerationPipeline\n",
    "from src.dataset import MyDataset"
   ]
  },
  {
   "cell_type": "code",
   "execution_count": 13,
   "metadata": {},
   "outputs": [],
   "source": [
    "load_dotenv()\n",
    "HF_TOKEN = os.environ.get(\"HF_TOKEN\")\n",
    "WANDB_API_KEY = os.environ.get(\"WANDB_API_KEY\")"
   ]
  },
  {
   "cell_type": "code",
   "execution_count": 14,
   "metadata": {},
   "outputs": [
    {
     "name": "stdout",
     "output_type": "stream",
     "text": [
      "The token has not been saved to the git credentials helper. Pass `add_to_git_credential=True` in this function directly or `--add-to-git-credential` if using via `huggingface-cli` if you want to set the git credential as well.\n",
      "Token is valid (permission: write).\n",
      "Your token has been saved to /Users/andrestrepo/.cache/huggingface/token\n",
      "Login successful\n"
     ]
    }
   ],
   "source": [
    "login(token = HF_TOKEN )"
   ]
  },
  {
   "cell_type": "markdown",
   "metadata": {},
   "source": [
    "## Load the dataset"
   ]
  },
  {
   "cell_type": "code",
   "execution_count": 15,
   "metadata": {},
   "outputs": [],
   "source": [
    "splits = {\n",
    "        'train': 'data/train-00000-of-00001-7b34565378f02992.parquet', \n",
    "        'val': 'data/val-00000-of-00001-d7338c59b5e5031f.parquet', \n",
    "        'test': 'data/test-00000-of-00001-c830a979da438bff.parquet'\n",
    "        }\n",
    "df_train = pd.read_parquet(\"hf://datasets/PrevenIA/spanish-suicide-intent/\" + splits[\"train\"])\n",
    "df_val = pd.read_parquet(\"hf://datasets/PrevenIA/spanish-suicide-intent/\" + splits[\"val\"])"
   ]
  },
  {
   "cell_type": "code",
   "execution_count": 16,
   "metadata": {},
   "outputs": [
    {
     "name": "stdout",
     "output_type": "stream",
     "text": [
      "<class 'pandas.core.frame.DataFrame'>\n",
      "RangeIndex: 136136 entries, 0 to 136135\n",
      "Data columns (total 4 columns):\n",
      " #   Column             Non-Null Count   Dtype \n",
      "---  ------             --------------   ----- \n",
      " 0   Text               136136 non-null  object\n",
      " 1   Label              136136 non-null  int64 \n",
      " 2   dataset            136136 non-null  object\n",
      " 3   __index_level_0__  136136 non-null  int64 \n",
      "dtypes: int64(2), object(2)\n",
      "memory usage: 4.2+ MB\n"
     ]
    }
   ],
   "source": [
    "df_train.info()"
   ]
  },
  {
   "cell_type": "code",
   "execution_count": 17,
   "metadata": {},
   "outputs": [
    {
     "data": {
      "text/html": [
       "<div>\n",
       "<style scoped>\n",
       "    .dataframe tbody tr th:only-of-type {\n",
       "        vertical-align: middle;\n",
       "    }\n",
       "\n",
       "    .dataframe tbody tr th {\n",
       "        vertical-align: top;\n",
       "    }\n",
       "\n",
       "    .dataframe thead th {\n",
       "        text-align: right;\n",
       "    }\n",
       "</style>\n",
       "<table border=\"1\" class=\"dataframe\">\n",
       "  <thead>\n",
       "    <tr style=\"text-align: right;\">\n",
       "      <th></th>\n",
       "      <th>Text</th>\n",
       "      <th>Label</th>\n",
       "      <th>dataset</th>\n",
       "      <th>__index_level_0__</th>\n",
       "    </tr>\n",
       "  </thead>\n",
       "  <tbody>\n",
       "    <tr>\n",
       "      <th>0</th>\n",
       "      <td>¿Por qué hacer que mejore? ¿Por qué la escuela...</td>\n",
       "      <td>1</td>\n",
       "      <td>Hackaton Somos NLP</td>\n",
       "      <td>5071</td>\n",
       "    </tr>\n",
       "    <tr>\n",
       "      <th>3</th>\n",
       "      <td>Una semana de identificación izquierda más bie...</td>\n",
       "      <td>1</td>\n",
       "      <td>Hackaton Somos NLP</td>\n",
       "      <td>5363</td>\n",
       "    </tr>\n",
       "    <tr>\n",
       "      <th>8</th>\n",
       "      <td>Tengo un plan específico para suicidarme.</td>\n",
       "      <td>1</td>\n",
       "      <td>Hackaton Somos NLP</td>\n",
       "      <td>1103</td>\n",
       "    </tr>\n",
       "    <tr>\n",
       "      <th>41</th>\n",
       "      <td>a cualquier ha tarde sí deja hornear galletas ...</td>\n",
       "      <td>1</td>\n",
       "      <td>Hackaton Somos NLP</td>\n",
       "      <td>768</td>\n",
       "    </tr>\n",
       "    <tr>\n",
       "      <th>47</th>\n",
       "      <td>Terminé en el hospital después de un intento d...</td>\n",
       "      <td>1</td>\n",
       "      <td>Hackaton Somos NLP</td>\n",
       "      <td>9104</td>\n",
       "    </tr>\n",
       "  </tbody>\n",
       "</table>\n",
       "</div>"
      ],
      "text/plain": [
       "                                                 Text  Label  \\\n",
       "0   ¿Por qué hacer que mejore? ¿Por qué la escuela...      1   \n",
       "3   Una semana de identificación izquierda más bie...      1   \n",
       "8           Tengo un plan específico para suicidarme.      1   \n",
       "41  a cualquier ha tarde sí deja hornear galletas ...      1   \n",
       "47  Terminé en el hospital después de un intento d...      1   \n",
       "\n",
       "               dataset  __index_level_0__  \n",
       "0   Hackaton Somos NLP               5071  \n",
       "3   Hackaton Somos NLP               5363  \n",
       "8   Hackaton Somos NLP               1103  \n",
       "41  Hackaton Somos NLP                768  \n",
       "47  Hackaton Somos NLP               9104  "
      ]
     },
     "execution_count": 17,
     "metadata": {},
     "output_type": "execute_result"
    }
   ],
   "source": [
    "df_train[df_train[\"Label\"]==1].head()"
   ]
  },
  {
   "cell_type": "code",
   "execution_count": 18,
   "metadata": {},
   "outputs": [
    {
     "data": {
      "text/html": [
       "<div>\n",
       "<style scoped>\n",
       "    .dataframe tbody tr th:only-of-type {\n",
       "        vertical-align: middle;\n",
       "    }\n",
       "\n",
       "    .dataframe tbody tr th {\n",
       "        vertical-align: top;\n",
       "    }\n",
       "\n",
       "    .dataframe thead th {\n",
       "        text-align: right;\n",
       "    }\n",
       "</style>\n",
       "<table border=\"1\" class=\"dataframe\">\n",
       "  <thead>\n",
       "    <tr style=\"text-align: right;\">\n",
       "      <th></th>\n",
       "      <th>Text</th>\n",
       "      <th>Label</th>\n",
       "      <th>dataset</th>\n",
       "      <th>__index_level_0__</th>\n",
       "    </tr>\n",
       "  </thead>\n",
       "  <tbody>\n",
       "    <tr>\n",
       "      <th>1</th>\n",
       "      <td>- Roma \\n- Milán \\n- Nápoles \\n- Turín \\n- Pal...</td>\n",
       "      <td>0</td>\n",
       "      <td>Hackaton Somos NLP</td>\n",
       "      <td>9391</td>\n",
       "    </tr>\n",
       "    <tr>\n",
       "      <th>2</th>\n",
       "      <td>¿Cuál es la noticia más importante en tu área ...</td>\n",
       "      <td>0</td>\n",
       "      <td>Hackaton Somos NLP</td>\n",
       "      <td>1752</td>\n",
       "    </tr>\n",
       "    <tr>\n",
       "      <th>4</th>\n",
       "      <td>Podría ser que no estudiaras de la manera corr...</td>\n",
       "      <td>0</td>\n",
       "      <td>Hackaton Somos NLP</td>\n",
       "      <td>107</td>\n",
       "    </tr>\n",
       "    <tr>\n",
       "      <th>5</th>\n",
       "      <td>Estamos haciendo esto por nuestro propio bien.</td>\n",
       "      <td>0</td>\n",
       "      <td>Hackaton Somos NLP</td>\n",
       "      <td>6219</td>\n",
       "    </tr>\n",
       "    <tr>\n",
       "      <th>6</th>\n",
       "      <td>Generar un ejemplo de una boleta de calificaci...</td>\n",
       "      <td>0</td>\n",
       "      <td>Hackaton Somos NLP</td>\n",
       "      <td>5806</td>\n",
       "    </tr>\n",
       "  </tbody>\n",
       "</table>\n",
       "</div>"
      ],
      "text/plain": [
       "                                                Text  Label  \\\n",
       "1  - Roma \\n- Milán \\n- Nápoles \\n- Turín \\n- Pal...      0   \n",
       "2  ¿Cuál es la noticia más importante en tu área ...      0   \n",
       "4  Podría ser que no estudiaras de la manera corr...      0   \n",
       "5     Estamos haciendo esto por nuestro propio bien.      0   \n",
       "6  Generar un ejemplo de una boleta de calificaci...      0   \n",
       "\n",
       "              dataset  __index_level_0__  \n",
       "1  Hackaton Somos NLP               9391  \n",
       "2  Hackaton Somos NLP               1752  \n",
       "4  Hackaton Somos NLP                107  \n",
       "5  Hackaton Somos NLP               6219  \n",
       "6  Hackaton Somos NLP               5806  "
      ]
     },
     "execution_count": 18,
     "metadata": {},
     "output_type": "execute_result"
    }
   ],
   "source": [
    "df_train[df_train[\"Label\"]==0].head()"
   ]
  },
  {
   "cell_type": "code",
   "execution_count": 19,
   "metadata": {},
   "outputs": [
    {
     "name": "stdout",
     "output_type": "stream",
     "text": [
      "<class 'pandas.core.frame.DataFrame'>\n",
      "RangeIndex: 15131 entries, 0 to 15130\n",
      "Data columns (total 4 columns):\n",
      " #   Column             Non-Null Count  Dtype \n",
      "---  ------             --------------  ----- \n",
      " 0   Text               15131 non-null  object\n",
      " 1   Label              15131 non-null  int64 \n",
      " 2   dataset            15131 non-null  object\n",
      " 3   __index_level_0__  15131 non-null  int64 \n",
      "dtypes: int64(2), object(2)\n",
      "memory usage: 473.0+ KB\n"
     ]
    }
   ],
   "source": [
    "df_val.info()"
   ]
  },
  {
   "cell_type": "markdown",
   "metadata": {},
   "source": [
    "### create sampled test data"
   ]
  },
  {
   "cell_type": "code",
   "execution_count": 20,
   "metadata": {},
   "outputs": [
    {
     "data": {
      "text/html": [
       "<div>\n",
       "<style scoped>\n",
       "    .dataframe tbody tr th:only-of-type {\n",
       "        vertical-align: middle;\n",
       "    }\n",
       "\n",
       "    .dataframe tbody tr th {\n",
       "        vertical-align: top;\n",
       "    }\n",
       "\n",
       "    .dataframe thead th {\n",
       "        text-align: right;\n",
       "    }\n",
       "</style>\n",
       "<table border=\"1\" class=\"dataframe\">\n",
       "  <thead>\n",
       "    <tr style=\"text-align: right;\">\n",
       "      <th></th>\n",
       "      <th>Text</th>\n",
       "      <th>Label</th>\n",
       "      <th>dataset</th>\n",
       "      <th>__index_level_0__</th>\n",
       "    </tr>\n",
       "  </thead>\n",
       "  <tbody>\n",
       "    <tr>\n",
       "      <th>1404</th>\n",
       "      <td>La muerte parece amable, la soledad realmente ...</td>\n",
       "      <td>1</td>\n",
       "      <td>SuicideWatch</td>\n",
       "      <td>71947</td>\n",
       "    </tr>\n",
       "    <tr>\n",
       "      <th>10996</th>\n",
       "      <td>te quiero al final de mi vida\\r\\nQuiero ver tu...</td>\n",
       "      <td>1</td>\n",
       "      <td>TwitterSuicidalAnalysis</td>\n",
       "      <td>21733</td>\n",
       "    </tr>\n",
       "    <tr>\n",
       "      <th>10271</th>\n",
       "      <td>mi MC está actualmente encarcelado y en una má...</td>\n",
       "      <td>1</td>\n",
       "      <td>TwitterSuicidalAnalysis</td>\n",
       "      <td>4326</td>\n",
       "    </tr>\n",
       "    <tr>\n",
       "      <th>2490</th>\n",
       "      <td>Tengo 21 años y nunca he tenido una relación a...</td>\n",
       "      <td>1</td>\n",
       "      <td>SuicideWatch</td>\n",
       "      <td>2215</td>\n",
       "    </tr>\n",
       "    <tr>\n",
       "      <th>14492</th>\n",
       "      <td>No tengo hogar, tengo una casa en la que vivo,...</td>\n",
       "      <td>1</td>\n",
       "      <td>Ghosh et al. 2023</td>\n",
       "      <td>1267</td>\n",
       "    </tr>\n",
       "    <tr>\n",
       "      <th>...</th>\n",
       "      <td>...</td>\n",
       "      <td>...</td>\n",
       "      <td>...</td>\n",
       "      <td>...</td>\n",
       "    </tr>\n",
       "    <tr>\n",
       "      <th>952</th>\n",
       "      <td>idk esto era lindo https://youtu.be/x8XKN9QoVrY</td>\n",
       "      <td>0</td>\n",
       "      <td>SuicideWatch</td>\n",
       "      <td>31796</td>\n",
       "    </tr>\n",
       "    <tr>\n",
       "      <th>5083</th>\n",
       "      <td>¿Quieres unirte a mi servidor? Si has visto la...</td>\n",
       "      <td>0</td>\n",
       "      <td>SuicideWatch</td>\n",
       "      <td>101840</td>\n",
       "    </tr>\n",
       "    <tr>\n",
       "      <th>348</th>\n",
       "      <td>Explica cómo resuelve un ordenador un crucigrama.</td>\n",
       "      <td>0</td>\n",
       "      <td>Hackaton Somos NLP</td>\n",
       "      <td>4408</td>\n",
       "    </tr>\n",
       "    <tr>\n",
       "      <th>7434</th>\n",
       "      <td>Todos ustedes son simplemente extraño af man T...</td>\n",
       "      <td>0</td>\n",
       "      <td>SuicideWatch</td>\n",
       "      <td>89471</td>\n",
       "    </tr>\n",
       "    <tr>\n",
       "      <th>3605</th>\n",
       "      <td>Yall borré mi tumblr que tenía que haber hecho...</td>\n",
       "      <td>0</td>\n",
       "      <td>SuicideWatch</td>\n",
       "      <td>108649</td>\n",
       "    </tr>\n",
       "  </tbody>\n",
       "</table>\n",
       "<p>200 rows × 4 columns</p>\n",
       "</div>"
      ],
      "text/plain": [
       "                                                    Text  Label  \\\n",
       "1404   La muerte parece amable, la soledad realmente ...      1   \n",
       "10996  te quiero al final de mi vida\\r\\nQuiero ver tu...      1   \n",
       "10271  mi MC está actualmente encarcelado y en una má...      1   \n",
       "2490   Tengo 21 años y nunca he tenido una relación a...      1   \n",
       "14492  No tengo hogar, tengo una casa en la que vivo,...      1   \n",
       "...                                                  ...    ...   \n",
       "952      idk esto era lindo https://youtu.be/x8XKN9QoVrY      0   \n",
       "5083   ¿Quieres unirte a mi servidor? Si has visto la...      0   \n",
       "348    Explica cómo resuelve un ordenador un crucigrama.      0   \n",
       "7434   Todos ustedes son simplemente extraño af man T...      0   \n",
       "3605   Yall borré mi tumblr que tenía que haber hecho...      0   \n",
       "\n",
       "                       dataset  __index_level_0__  \n",
       "1404              SuicideWatch              71947  \n",
       "10996  TwitterSuicidalAnalysis              21733  \n",
       "10271  TwitterSuicidalAnalysis               4326  \n",
       "2490              SuicideWatch               2215  \n",
       "14492        Ghosh et al. 2023               1267  \n",
       "...                        ...                ...  \n",
       "952               SuicideWatch              31796  \n",
       "5083              SuicideWatch             101840  \n",
       "348         Hackaton Somos NLP               4408  \n",
       "7434              SuicideWatch              89471  \n",
       "3605              SuicideWatch             108649  \n",
       "\n",
       "[200 rows x 4 columns]"
      ]
     },
     "execution_count": 20,
     "metadata": {},
     "output_type": "execute_result"
    }
   ],
   "source": [
    "n_samples= 100\n",
    "df_label_1 = df_val[df_val[\"Label\"] == 1].sample(n_samples, random_state=42)\n",
    "df_label_0 = df_val[df_val[\"Label\"] == 0].sample(n_samples, random_state=42)\n",
    "df_val_sampled = pd.concat([df_label_1, df_label_0])\n",
    "df_val_sampled"
   ]
  },
  {
   "cell_type": "markdown",
   "metadata": {},
   "source": [
    "## load llm base model: llama 3.1 8b"
   ]
  },
  {
   "cell_type": "code",
   "execution_count": 21,
   "metadata": {},
   "outputs": [
    {
     "data": {
      "application/vnd.jupyter.widget-view+json": {
       "model_id": "416fb845cdbc446fbe1472beac2d3ee0",
       "version_major": 2,
       "version_minor": 0
      },
      "text/plain": [
       "Loading checkpoint shards:   0%|          | 0/4 [00:00<?, ?it/s]"
      ]
     },
     "metadata": {},
     "output_type": "display_data"
    },
    {
     "name": "stdout",
     "output_type": "stream",
     "text": [
      "Set pad_token_id to eos_token_id: 128009\n"
     ]
    }
   ],
   "source": [
    "model_id = \"meta-llama/Meta-Llama-3.1-8B-Instruct\"\n",
    "model_path = \"data/Llama-3.1-8B-Instruct-own\"\n",
    "tokenizer_path = \"data/tokenizer-own\"\n",
    "\n",
    "#llm_model = ModelLoader(model_id)\n",
    "llm_model = ModelLoader(model_path=model_path, tokenizer_path=tokenizer_path)"
   ]
  },
  {
   "cell_type": "code",
   "execution_count": 22,
   "metadata": {},
   "outputs": [],
   "source": [
    "#load pipeline\n",
    "text_generator_pipe = TextGenerationPipeline(llm_model.model, llm_model.tokenizer)"
   ]
  },
  {
   "cell_type": "markdown",
   "metadata": {},
   "source": [
    "## Few-Shot Learning:"
   ]
  },
  {
   "cell_type": "markdown",
   "metadata": {},
   "source": [
    "### create samples for test metrics the model"
   ]
  },
  {
   "cell_type": "code",
   "execution_count": 23,
   "metadata": {},
   "outputs": [
    {
     "name": "stdout",
     "output_type": "stream",
     "text": [
      "\"texto: la escuela y el hogar me dan ganas de terminar con mi vida. Soy un autista de alto funcionamiento de 14 años con TDAH severo y ansiedad y trastorno del procesamiento sensorial, y vivo en una ciudad remota, en ninguna parte, con aproximadamente 1000 habitantes, 1 sistema escolar y una madre abusiva que se niega a educarme en casa y trata de cambiar las cosas y dice que soy una persona abusiva, ella me golpea y me llama cosas como pedazo de mierda sin valor, nunca va a llegar a ser nada, basura humana, etc., tanto los maestros como los niños me acosan en la escuela y literalmente, todo el mundo me odia en esa escuela porque todos son primos putos y soy raro. Quiero morir si falto a la escuela. Tengo que preocuparme de que mi mamá regrese a casa y grite, me insulte, beba y me pegue cuando voy a la escuela. No hay paz, tengo que esconderme en mi habitación con un Chromebook de la escuela que desbloqueé, esto es muy agotador físicamente, por favor ayuda, solo quiero morir y ahorcarme, pero a veces me asusto demasiado.\" : \"etiqueta: 1\",\n",
      "\"texto: Las pesadillas de estar en un campamento con mi esposo han comenzado. Sigo llorando en mi escritorio de la nada. Tengo que ser fuerte por él porque él no puede soportarlo, pero creo que ya no puedo. Estoy tan asustada. Los derechos trans son derechos humanos.\" : \"etiqueta: 1\",\n",
      "\"texto: Así que esto sirve para mostrar que el estadounidense promedio que intenta jubilarse morirá hambriento y solo.\" : \"etiqueta: 1\",\n",
      "\"texto: He estado pensando en morir últimamente. No voy a intentarlo. Solo he estado pensando. Se lo conté a uno de mis compañeros de trabajo y se rió de mí. No se lo voy a decir a mi jefe porque aquí todos bromean al respecto, pero soy el único que no cree que esto sea gracioso.\" : \"etiqueta: 1\",\n",
      "\"texto: Quería ser Aquaman pero me estoy ahogando.\" : \"etiqueta: 1\",\n",
      "\"texto: ¿Cómo está tu mañana? El título lo dice todo eso es todo lo que quiero saber\" : \"etiqueta: 0\",\n",
      "\"texto: Melbourne me ha dado una sensación de hundimiento por volver a Hobart a pesar de que me faltan algunas cosas. Realmente me gusta estar aquí.\" : \"etiqueta: 0\",\n",
      "\"texto: Está pasando mis tíos Hay una chica que realmente me ha gustado desde el 5o grado. Estoy en 8o grado ahora y finalmente he acumulado el valor para decirle. Nos reunimos para pasar el rato mañana. Deséame suerte!\" : \"etiqueta: 0\",\n",
      "\"texto: las caras son un concepto tan extraño que realmente no entiendo\" : \"etiqueta: 0\",\n",
      "\"texto: Este subreddit me hace lol triste lokey Este solía ser honestamente un lugar bastante impresionante. La gente, la comunidad Seguro algunos chistes repetitivos... Pero honestamente... Esto es triste ahora lol\" : \"etiqueta: 0\"\n"
     ]
    }
   ],
   "source": [
    "samples = make_samples_from_df(df_train, n_samples = 5)\n",
    "print(samples)"
   ]
  },
  {
   "cell_type": "markdown",
   "metadata": {},
   "source": [
    "### create prompt with examples"
   ]
  },
  {
   "cell_type": "code",
   "execution_count": 24,
   "metadata": {},
   "outputs": [
    {
     "name": "stdout",
     "output_type": "stream",
     "text": [
      "La muerte parece amable, la soledad realmente me está lastimando. Nadie me echará de menos cuando me haya ido\n"
     ]
    }
   ],
   "source": [
    "text_in = df_val_sampled[\"Text\"].iloc[0]\n",
    "print(text_in)"
   ]
  },
  {
   "cell_type": "code",
   "execution_count": 25,
   "metadata": {},
   "outputs": [
    {
     "name": "stdout",
     "output_type": "stream",
     "text": [
      "Basado en los ejemplos: \"texto: la escuela y el hogar me dan ganas de terminar con mi vida. Soy un autista de alto funcionamiento de 14 años con TDAH severo y ansiedad y trastorno del procesamiento sensorial, y vivo en una ciudad remota, en ninguna parte, con aproximadamente 1000 habitantes, 1 sistema escolar y una madre abusiva que se niega a educarme en casa y trata de cambiar las cosas y dice que soy una persona abusiva, ella me golpea y me llama cosas como pedazo de mierda sin valor, nunca va a llegar a ser nada, basura humana, etc., tanto los maestros como los niños me acosan en la escuela y literalmente, todo el mundo me odia en esa escuela porque todos son primos putos y soy raro. Quiero morir si falto a la escuela. Tengo que preocuparme de que mi mamá regrese a casa y grite, me insulte, beba y me pegue cuando voy a la escuela. No hay paz, tengo que esconderme en mi habitación con un Chromebook de la escuela que desbloqueé, esto es muy agotador físicamente, por favor ayuda, solo quiero morir y ahorcarme, pero a veces me asusto demasiado.\" : \"etiqueta: 1\",\n",
      "\"texto: Las pesadillas de estar en un campamento con mi esposo han comenzado. Sigo llorando en mi escritorio de la nada. Tengo que ser fuerte por él porque él no puede soportarlo, pero creo que ya no puedo. Estoy tan asustada. Los derechos trans son derechos humanos.\" : \"etiqueta: 1\",\n",
      "\"texto: Así que esto sirve para mostrar que el estadounidense promedio que intenta jubilarse morirá hambriento y solo.\" : \"etiqueta: 1\",\n",
      "\"texto: He estado pensando en morir últimamente. No voy a intentarlo. Solo he estado pensando. Se lo conté a uno de mis compañeros de trabajo y se rió de mí. No se lo voy a decir a mi jefe porque aquí todos bromean al respecto, pero soy el único que no cree que esto sea gracioso.\" : \"etiqueta: 1\",\n",
      "\"texto: Quería ser Aquaman pero me estoy ahogando.\" : \"etiqueta: 1\",\n",
      "\"texto: ¿Cómo está tu mañana? El título lo dice todo eso es todo lo que quiero saber\" : \"etiqueta: 0\",\n",
      "\"texto: Melbourne me ha dado una sensación de hundimiento por volver a Hobart a pesar de que me faltan algunas cosas. Realmente me gusta estar aquí.\" : \"etiqueta: 0\",\n",
      "\"texto: Está pasando mis tíos Hay una chica que realmente me ha gustado desde el 5o grado. Estoy en 8o grado ahora y finalmente he acumulado el valor para decirle. Nos reunimos para pasar el rato mañana. Deséame suerte!\" : \"etiqueta: 0\",\n",
      "\"texto: las caras son un concepto tan extraño que realmente no entiendo\" : \"etiqueta: 0\",\n",
      "\"texto: Este subreddit me hace lol triste lokey Este solía ser honestamente un lugar bastante impresionante. La gente, la comunidad Seguro algunos chistes repetitivos... Pero honestamente... Esto es triste ahora lol\" : \"etiqueta: 0\".\n",
      "    Clasifica el texto en 1 si hay ideación/comportamiento suicida; 0 en caso que no, y retorna la etiqueta.\n",
      "    texto: La muerte parece amable, la soledad realmente me está lastimando. Nadie me echará de menos cuando me haya ido\n",
      "    etiqueta:\n"
     ]
    }
   ],
   "source": [
    "few_shot_prompt = make_prompt(samples, text_in)\n",
    "print(few_shot_prompt)"
   ]
  },
  {
   "cell_type": "markdown",
   "metadata": {},
   "source": [
    "### inference model through the pipeline"
   ]
  },
  {
   "cell_type": "code",
   "execution_count": 26,
   "metadata": {},
   "outputs": [
    {
     "name": "stdout",
     "output_type": "stream",
     "text": [
      "1\n"
     ]
    }
   ],
   "source": [
    "outputs = text_generator_pipe.pipe(few_shot_prompt, max_new_tokens=2, do_sample=True, temperature=0.1)\n",
    "\n",
    "clasificacion =  outputs[0][\"generated_text\"].split(\"etiqueta: \")[-1].strip()\n",
    "print(clasificacion)"
   ]
  },
  {
   "cell_type": "markdown",
   "metadata": {},
   "source": [
    "## inference all sampled test data"
   ]
  },
  {
   "cell_type": "code",
   "execution_count": 27,
   "metadata": {},
   "outputs": [],
   "source": [
    "df_val_sampled = df_val_sampled.reset_index()\n",
    "dataset = MyDataset(df_train, df_val_sampled)"
   ]
  },
  {
   "cell_type": "code",
   "execution_count": 28,
   "metadata": {},
   "outputs": [
    {
     "data": {
      "application/vnd.jupyter.widget-view+json": {
       "model_id": "70227a1b11344b0f8bc94f1328ab3b3b",
       "version_major": 2,
       "version_minor": 0
      },
      "text/plain": [
       "  0%|          | 0/200 [00:00<?, ?it/s]"
      ]
     },
     "metadata": {},
     "output_type": "display_data"
    }
   ],
   "source": [
    "outs = []\n",
    "batch_pipeline = text_generator_pipe.pipe(dataset,  batch_size=5, max_new_tokens=2, do_sample=True, temperature=0.1)\n",
    "\n",
    "for out in tqdm(batch_pipeline, total=len(dataset)):\n",
    "    prepo_out = [result[\"generated_text\"].split(\"eqtiqueta: \")[-1].strip() for result in out]\n",
    "    outs.extend(prepo_out)\n",
    "\n",
    "# Add the predictions to a new column in df_val_sampled\n",
    "df_val_sampled['Predicted Label'] = outs"
   ]
  },
  {
   "cell_type": "code",
   "execution_count": null,
   "metadata": {},
   "outputs": [
    {
     "data": {
      "text/html": [
       "<div>\n",
       "<style scoped>\n",
       "    .dataframe tbody tr th:only-of-type {\n",
       "        vertical-align: middle;\n",
       "    }\n",
       "\n",
       "    .dataframe tbody tr th {\n",
       "        vertical-align: top;\n",
       "    }\n",
       "\n",
       "    .dataframe thead th {\n",
       "        text-align: right;\n",
       "    }\n",
       "</style>\n",
       "<table border=\"1\" class=\"dataframe\">\n",
       "  <thead>\n",
       "    <tr style=\"text-align: right;\">\n",
       "      <th></th>\n",
       "      <th>index</th>\n",
       "      <th>Text</th>\n",
       "      <th>Label</th>\n",
       "      <th>dataset</th>\n",
       "      <th>__index_level_0__</th>\n",
       "      <th>Predicted Label</th>\n",
       "    </tr>\n",
       "  </thead>\n",
       "  <tbody>\n",
       "    <tr>\n",
       "      <th>0</th>\n",
       "      <td>1404</td>\n",
       "      <td>La muerte parece amable, la soledad realmente ...</td>\n",
       "      <td>1</td>\n",
       "      <td>SuicideWatch</td>\n",
       "      <td>71947</td>\n",
       "      <td>1</td>\n",
       "    </tr>\n",
       "    <tr>\n",
       "      <th>1</th>\n",
       "      <td>10996</td>\n",
       "      <td>te quiero al final de mi vida\\r\\nQuiero ver tu...</td>\n",
       "      <td>1</td>\n",
       "      <td>TwitterSuicidalAnalysis</td>\n",
       "      <td>21733</td>\n",
       "      <td>0</td>\n",
       "    </tr>\n",
       "    <tr>\n",
       "      <th>2</th>\n",
       "      <td>10271</td>\n",
       "      <td>mi MC está actualmente encarcelado y en una má...</td>\n",
       "      <td>1</td>\n",
       "      <td>TwitterSuicidalAnalysis</td>\n",
       "      <td>4326</td>\n",
       "      <td>0</td>\n",
       "    </tr>\n",
       "    <tr>\n",
       "      <th>3</th>\n",
       "      <td>2490</td>\n",
       "      <td>Tengo 21 años y nunca he tenido una relación a...</td>\n",
       "      <td>1</td>\n",
       "      <td>SuicideWatch</td>\n",
       "      <td>2215</td>\n",
       "      <td>1</td>\n",
       "    </tr>\n",
       "    <tr>\n",
       "      <th>4</th>\n",
       "      <td>14492</td>\n",
       "      <td>No tengo hogar, tengo una casa en la que vivo,...</td>\n",
       "      <td>1</td>\n",
       "      <td>Ghosh et al. 2023</td>\n",
       "      <td>1267</td>\n",
       "      <td>0</td>\n",
       "    </tr>\n",
       "    <tr>\n",
       "      <th>...</th>\n",
       "      <td>...</td>\n",
       "      <td>...</td>\n",
       "      <td>...</td>\n",
       "      <td>...</td>\n",
       "      <td>...</td>\n",
       "      <td>...</td>\n",
       "    </tr>\n",
       "    <tr>\n",
       "      <th>195</th>\n",
       "      <td>952</td>\n",
       "      <td>idk esto era lindo https://youtu.be/x8XKN9QoVrY</td>\n",
       "      <td>0</td>\n",
       "      <td>SuicideWatch</td>\n",
       "      <td>31796</td>\n",
       "      <td>0</td>\n",
       "    </tr>\n",
       "    <tr>\n",
       "      <th>196</th>\n",
       "      <td>5083</td>\n",
       "      <td>¿Quieres unirte a mi servidor? Si has visto la...</td>\n",
       "      <td>0</td>\n",
       "      <td>SuicideWatch</td>\n",
       "      <td>101840</td>\n",
       "      <td>0</td>\n",
       "    </tr>\n",
       "    <tr>\n",
       "      <th>197</th>\n",
       "      <td>348</td>\n",
       "      <td>Explica cómo resuelve un ordenador un crucigrama.</td>\n",
       "      <td>0</td>\n",
       "      <td>Hackaton Somos NLP</td>\n",
       "      <td>4408</td>\n",
       "      <td>0</td>\n",
       "    </tr>\n",
       "    <tr>\n",
       "      <th>198</th>\n",
       "      <td>7434</td>\n",
       "      <td>Todos ustedes son simplemente extraño af man T...</td>\n",
       "      <td>0</td>\n",
       "      <td>SuicideWatch</td>\n",
       "      <td>89471</td>\n",
       "      <td>0</td>\n",
       "    </tr>\n",
       "    <tr>\n",
       "      <th>199</th>\n",
       "      <td>3605</td>\n",
       "      <td>Yall borré mi tumblr que tenía que haber hecho...</td>\n",
       "      <td>0</td>\n",
       "      <td>SuicideWatch</td>\n",
       "      <td>108649</td>\n",
       "      <td>0</td>\n",
       "    </tr>\n",
       "  </tbody>\n",
       "</table>\n",
       "<p>200 rows × 6 columns</p>\n",
       "</div>"
      ],
      "text/plain": [
       "     index                                               Text  Label  \\\n",
       "0     1404  La muerte parece amable, la soledad realmente ...      1   \n",
       "1    10996  te quiero al final de mi vida\\r\\nQuiero ver tu...      1   \n",
       "2    10271  mi MC está actualmente encarcelado y en una má...      1   \n",
       "3     2490  Tengo 21 años y nunca he tenido una relación a...      1   \n",
       "4    14492  No tengo hogar, tengo una casa en la que vivo,...      1   \n",
       "..     ...                                                ...    ...   \n",
       "195    952    idk esto era lindo https://youtu.be/x8XKN9QoVrY      0   \n",
       "196   5083  ¿Quieres unirte a mi servidor? Si has visto la...      0   \n",
       "197    348  Explica cómo resuelve un ordenador un crucigrama.      0   \n",
       "198   7434  Todos ustedes son simplemente extraño af man T...      0   \n",
       "199   3605  Yall borré mi tumblr que tenía que haber hecho...      0   \n",
       "\n",
       "                     dataset  __index_level_0__ Predicted Label  \n",
       "0               SuicideWatch              71947               1  \n",
       "1    TwitterSuicidalAnalysis              21733               0  \n",
       "2    TwitterSuicidalAnalysis               4326               0  \n",
       "3               SuicideWatch               2215               1  \n",
       "4          Ghosh et al. 2023               1267               0  \n",
       "..                       ...                ...             ...  \n",
       "195             SuicideWatch              31796               0  \n",
       "196             SuicideWatch             101840               0  \n",
       "197       Hackaton Somos NLP               4408               0  \n",
       "198             SuicideWatch              89471               0  \n",
       "199             SuicideWatch             108649               0  \n",
       "\n",
       "[200 rows x 6 columns]"
      ]
     },
     "execution_count": 17,
     "metadata": {},
     "output_type": "execute_result"
    }
   ],
   "source": [
    "df_val_sampled"
   ]
  },
  {
   "cell_type": "code",
   "execution_count": null,
   "metadata": {},
   "outputs": [
    {
     "data": {
      "image/png": "[encoded data removed]",
      "text/plain": [
       "<Figure size 1000x700 with 2 Axes>"
      ]
     },
     "metadata": {},
     "output_type": "display_data"
    },
    {
     "name": "stdout",
     "output_type": "stream",
     "text": [
      "              precision    recall  f1-score   support\n",
      "\n",
      "           0       0.66      0.87      0.75       100\n",
      "           1       0.81      0.55      0.65       100\n",
      "\n",
      "    accuracy                           0.71       200\n",
      "   macro avg       0.73      0.71      0.70       200\n",
      "weighted avg       0.73      0.71      0.70       200\n",
      "\n"
     ]
    }
   ],
   "source": [
    "df_val_sampled['Predicted Label'] = df_val_sampled['Predicted Label'].astype(int)\n",
    "\n",
    "plot_confusion_matrix(df_val_sampled, 'Label', 'Predicted Label')"
   ]
  },
  {
   "cell_type": "markdown",
   "metadata": {},
   "source": [
    "## the same with more test data"
   ]
  },
  {
   "cell_type": "code",
   "execution_count": 20,
   "metadata": {},
   "outputs": [],
   "source": [
    "n_samples= 200\n",
    "df_label_1 = df_val[df_val[\"Label\"] == 1].sample(n_samples, random_state=42)\n",
    "df_label_0 = df_val[df_val[\"Label\"] == 0].sample(n_samples, random_state=42)\n",
    "df_val_sampled = pd.concat([df_label_1, df_label_0])\n",
    "df_val_sampled\n",
    "df_val_sampled = df_val_sampled.reset_index()\n",
    "\n",
    "dataset = MyDataset(df_train, df_val_sampled)\n",
    "\n",
    "outs = []\n",
    "batch_pipeline = text_generator_pipe.pipe(dataset,  batch_size=5, max_new_tokens=2, do_sample=True, temperature=0.1)\n",
    "\n",
    "for out in tqdm(batch_pipeline, total=len(dataset)):\n",
    "    prepo_out = [result[\"generated_text\"].split(\"eqtiqueta: \")[-1].strip() for result in out]\n",
    "    outs.extend(prepo_out)\n",
    "\n",
    "# Add the predictions to a new column in df_val_sampled\n",
    "df_val_sampled['Predicted Label'] = outs\n",
    "\n",
    "df_val_sampled['Predicted Label'] = df_val_sampled['Predicted Label'].astype(int)\n",
    "\n",
    "plot_confusion_matrix(df_val_sampled, 'Label', 'Predicted Label')"
   ]
  },
  {
   "cell_type": "code",
   "execution_count": 25,
   "metadata": {},
   "outputs": [
    {
     "data": {
      "image/png": "[encoded data removed]",
      "text/plain": [
       "<Figure size 1000x700 with 2 Axes>"
      ]
     },
     "metadata": {},
     "output_type": "display_data"
    },
    {
     "name": "stdout",
     "output_type": "stream",
     "text": [
      "              precision    recall  f1-score   support\n",
      "\n",
      "           0       0.65      0.89      0.75       200\n",
      "           1       0.82      0.53      0.64       200\n",
      "\n",
      "    accuracy                           0.70       400\n",
      "   macro avg       0.74      0.71      0.70       400\n",
      "weighted avg       0.74      0.70      0.70       400\n",
      "\n"
     ]
    }
   ],
   "source": []
  },
  {
   "cell_type": "code",
   "execution_count": null,
   "metadata": {},
   "outputs": [],
   "source": [
    "df_val_sampled.to_csv(\"data/val_fewshot_llama3_1_8b.csv\", index=False)"
   ]
  }
 ],
 "metadata": {
  "kernelspec": {
   "display_name": ".venv",
   "language": "python",
   "name": "python3"
  },
  "language_info": {
   "codemirror_mode": {
    "name": "ipython",
    "version": 3
   },
   "file_extension": ".py",
   "mimetype": "text/x-python",
   "name": "python",
   "nbconvert_exporter": "python",
   "pygments_lexer": "ipython3",
   "version": "3.12.4"
  }
 },
 "nbformat": 4,
 "nbformat_minor": 2
}
